{
 "cells": [
  {
   "cell_type": "code",
   "execution_count": 5,
   "metadata": {},
   "outputs": [],
   "source": [
    "logger_name = \"lstnet\"\n",
    "\n",
    "# Path appended in order to import from util\n",
    "import sys\n",
    "sys.path.append('..')\n",
    "from util.model_util import LoadModel, SaveModel, SaveResults, SaveHistory\n",
    "from util.Msglog import LogInit\n",
    "\n",
    "from datetime import datetime\n",
    "\n",
    "#from lstnet_util import GetArguments, LSTNetInit\n",
    "from pandas_util import DataUtil\n",
    "#from lstnet_model import PreSkipTrans, PostSkipTrans, PreARTrans, PostARTrans, LSTNetModel, ModelCompile\n",
    "#from lstnet_plot import AutoCorrelationPlot, PlotHistory, PlotPrediction\n",
    "\n",
    "import tensorflow as tf\n",
    "import argparse\n",
    "\n",
    "import numpy as np\n",
    "import matplotlib.pyplot as plt\n",
    "import sklearn\n",
    "from tensorflow.keras import backend as K\n"
   ]
  },
  {
   "cell_type": "code",
   "execution_count": 6,
   "metadata": {},
   "outputs": [
    {
     "name": "stdout",
     "output_type": "stream",
     "text": [
      "8042.861648594496\n",
      "5088.83680043049\n"
     ]
    }
   ],
   "source": [
    "# Reading data\n",
    "filename = 'C:\\\\Users\\\\Troy\\\\Desktop\\\\throughput_prediction_public_cloud-master\\\\bq-results.csv'\n",
    "trainpercent = 0.6\n",
    "validpercent = 0.2\n",
    "horizon=0\n",
    "window=10\n",
    "normalize=0\n",
    "Data = DataUtil(filename,\n",
    "                trainpercent,\n",
    "                validpercent,\n",
    "                horizon,\n",
    "                window,\n",
    "                normalise=normalize,\n",
    "                dependent_variable=\"iperf_throughput_1_thread\")\n"
   ]
  },
  {
   "cell_type": "code",
   "execution_count": 7,
   "metadata": {},
   "outputs": [],
   "source": [
    "val_performance = {}\n",
    "performance = {}"
   ]
  },
  {
   "cell_type": "code",
   "execution_count": 8,
   "metadata": {},
   "outputs": [],
   "source": [
    "#Root relative squared error\n",
    "def tf_rse(y_true, y_pred):\n",
    "    #\n",
    "    # The formula is:\n",
    "    #           K.sqrt(K.sum(K.square(y_true - y_pred)))     \n",
    "    #    RSE = -----------------------------------------------\n",
    "    #           K.sqrt(K.sum(K.square(y_true_mean - y_true)))       \n",
    "    #\n",
    "    #           K.sqrt(K.sum(K.square(y_true - y_pred))/(N-1))\n",
    "    #        = ----------------------------------------------------\n",
    "    #           K.sqrt(K.sum(K.square(y_true_mean - y_true)/(N-1)))\n",
    "    #\n",
    "    #\n",
    "    #           K.sqrt(K.mean(K.square(y_true - y_pred)))\n",
    "    #        = ------------------------------------------\n",
    "    #           K.std(y_true)\n",
    "    #\n",
    "    num = K.sqrt(K.mean(K.square(y_true - y_pred), axis=None))\n",
    "    den = K.std(y_true, axis=None)\n",
    "    \n",
    "    return num / den\n",
    "\n",
    "def rse_test1(y_true, y_pred):\n",
    "    return K.square(y_true - y_pred)\n",
    "\n",
    "def rse_test2(y_true, y_pred):\n",
    "    return K.sqrt(K.mean(K.square(y_true - y_pred), axis=None))\n",
    "\n",
    "def rse_test3(y_true, y_pred):\n",
    "    return K.std(y_true, axis=None)\n",
    "\n",
    "def rse(y_true, y_pred):\n",
    "    #\n",
    "    # The formula is:\n",
    "    #           K.sqrt(K.sum(K.square(y_true - y_pred)))     \n",
    "    #    RSE = -----------------------------------------------\n",
    "    #           K.sqrt(K.sum(K.square(y_true_mean - y_true)))       \n",
    "    #\n",
    "    #           K.sqrt(K.sum(K.square( y_true - y_pred))/(N-1))\n",
    "    #        = ----------------------------------------------------\n",
    "    #           K.sqrt(K.sum(K.square(y_true_mean - y_true)/(N-1)))\n",
    "    #\n",
    "    #\n",
    "    #           K.sqrt(K.mean(K.square(y_true - y_pred)))\n",
    "    #        = ------------------------------------------\n",
    "    #           K.std(y_true)\n",
    "    #\n",
    "    num = np.sqrt(np.mean(np.square(y_true - y_pred), axis=None))\n",
    "    den = np.std(y_true, axis=None)\n",
    "    \n",
    "    return num / den\n",
    "\n",
    "def tf_corr(y_true, y_pred):\n",
    "    #\n",
    "    # This function calculates the correlation between the true and the predicted outputs\n",
    "    #\n",
    "    num1 = y_true - K.mean(y_true, axis=0)\n",
    "    num2 = y_pred - K.mean(y_pred, axis=0)\n",
    "    \n",
    "    num  = K.mean(num1 * num2, axis=0)\n",
    "    den  = K.std(y_true, axis=0) * K.std(y_pred, axis=0)\n",
    "    \n",
    "    return K.mean(num / den)\n",
    "\n",
    "def corr(y_true, y_pred):\n",
    "    #\n",
    "    # This function calculates the correlation between the true and the predicted outputs\n",
    "    #\n",
    "    num1 = y_true - np.mean(y_true, axis=0)\n",
    "    num2 = y_pred - np.mean(y_pred, axis=0)\n",
    "    \n",
    "    num  = np.mean(num1 * num2, axis=0)\n",
    "    den  = np.std(y_true, axis=0) * np.std(y_pred, axis=0)\n",
    "    \n",
    "    return np.mean(num / den)\n",
    "\n",
    "def single_rse(y_true, y_pred):\n",
    "    #\n",
    "    # The formula is:\n",
    "    #           K.sqrt(K.sum(K.square(y_true - y_pred)))     \n",
    "    #    RSE = -----------------------------------------------\n",
    "    #           K.sqrt(K.sum(K.square(y_true_mean - y_true)))       \n",
    "    #\n",
    "    #           K.sqrt(K.sum(K.square(y_true - y_pred))/(N-1))\n",
    "    #        = ----------------------------------------------------\n",
    "    #           K.sqrt(K.sum(K.square(y_true_mean - y_true)/(N-1)))\n",
    "    #\n",
    "    #\n",
    "    #           K.sqrt(K.mean(K.square(y_true - y_pred)))\n",
    "    #        = ------------------------------------------\n",
    "    #           K.std(y_true)\n",
    "    #\n",
    "    num = K.sqrt(K.mean(K.square(y_true[:,0] - y_pred[:,0]), axis=None))\n",
    "    den = K.std(y_true, axis=None)\n",
    "    \n",
    "    return num / den\n",
    "\n",
    "\n",
    "def single_corr(y_true, y_pred):\n",
    "    #\n",
    "    # This function calculates the correlation between the true and the predicted outputs\n",
    "    #\n",
    "    num1 = y_true[:,0] - K.mean(y_true[:,0], axis=0)\n",
    "    num2 = y_pred[:,0] - K.mean(y_pred[:,0], axis=0)\n",
    "    \n",
    "    num  = K.mean(num1 * num2, axis=0)\n",
    "    den  = K.std(y_true[:,0], axis=0) * K.std(y_pred[:,0], axis=0)\n",
    "    \n",
    "    return K.mean(num / den)\n",
    "\n",
    "def mean_absolute_percentage_error(y_true, y_pred): \n",
    "  return np.mean(np.abs(y_true - y_pred) / np.abs(y_true)) * 100"
   ]
  },
  {
   "cell_type": "code",
   "execution_count": 9,
   "metadata": {},
   "outputs": [],
   "source": [
    "early_stopping = tf.keras.callbacks.EarlyStopping(monitor='val_loss',\n",
    "                                                patience=10,\n",
    "                                                mode='min')"
   ]
  },
  {
   "cell_type": "code",
   "execution_count": 10,
   "metadata": {},
   "outputs": [
    {
     "data": {
      "text/plain": [
       "array([[ 0.05524609, -1.0570084 ,  0.52944064],\n",
       "       [ 0.05917626, -1.0566899 ,  0.52944064],\n",
       "       [ 0.04876131, -1.0565562 ,  0.52944064],\n",
       "       [-0.14597867, -1.055323  ,  0.52944064],\n",
       "       [-0.03554086, -1.057255  ,  0.52944064],\n",
       "       [ 0.15605499, -1.0576763 ,  0.52944064],\n",
       "       [ 0.3653366 , -1.056844  ,  0.52944064],\n",
       "       [ 0.09808496, -1.0573269 ,  0.52944064],\n",
       "       [ 0.18454872, -1.0617254 ,  0.52944064],\n",
       "       [-0.01471096, -1.0613348 ,  0.52944064]], dtype=float32)"
      ]
     },
     "execution_count": 10,
     "metadata": {},
     "output_type": "execute_result"
    }
   ],
   "source": [
    "Data.train[0][:,:,0:3][0]"
   ]
  },
  {
   "cell_type": "code",
   "execution_count": 11,
   "metadata": {},
   "outputs": [
    {
     "data": {
      "text/plain": [
       "array([ 0.72219616, -0.15403552, -0.49065468, ...,  3.6491911 ,\n",
       "        2.0926468 ,  3.668056  ], dtype=float32)"
      ]
     },
     "execution_count": 11,
     "metadata": {},
     "output_type": "execute_result"
    }
   ],
   "source": [
    "Data.train[1][:,0]"
   ]
  },
  {
   "cell_type": "code",
   "execution_count": 12,
   "metadata": {},
   "outputs": [],
   "source": [
    "accuracy_stats = {}\n",
    "accuracy_stats['rmse'] = {}\n",
    "accuracy_stats['rse'] = {}\n",
    "accuracy_stats['corr'] = {}\n",
    "accuracy_stats['accuracy'] = {}\n",
    "accuracy_stats['mae'] = {}\n",
    "accuracy_stats['predicted'] = {}\n",
    "accuracy_stats['mse'] = {}"
   ]
  },
  {
   "cell_type": "markdown",
   "metadata": {},
   "source": [
    "## Simple MLP\n",
    "\n",
    "Here we are testing the effectiveness of a simple ANN (MLP) on our dataset"
   ]
  },
  {
   "cell_type": "code",
   "execution_count": 13,
   "metadata": {},
   "outputs": [],
   "source": [
    "linear = tf.keras.Sequential([\n",
    "    tf.keras.layers.Flatten(input_shape=(10,3)),\n",
    "    tf.keras.layers.Dense(units=15),\n",
    "    tf.keras.layers.Dropout(0.2),\n",
    "    tf.keras.layers.Dense(units=15),\n",
    "    tf.keras.layers.Dense(units=1),\n",
    "])"
   ]
  },
  {
   "cell_type": "code",
   "execution_count": 14,
   "metadata": {},
   "outputs": [],
   "source": [
    "linear.compile(loss=tf.losses.MeanSquaredError(),\n",
    "                optimizer=tf.optimizers.Adam(),\n",
    "                metrics=[tf_rse, tf_corr, tf.metrics.MeanAbsoluteError(), tf.metrics.MeanSquaredError(), tf.metrics.RootMeanSquaredError()])"
   ]
  },
  {
   "cell_type": "code",
   "execution_count": 15,
   "metadata": {},
   "outputs": [
    {
     "data": {
      "text/plain": [
       "89696"
      ]
     },
     "execution_count": 15,
     "metadata": {},
     "output_type": "execute_result"
    }
   ],
   "source": [
    "Data.train[1][:,0].shape[0]"
   ]
  },
  {
   "cell_type": "code",
   "execution_count": 16,
   "metadata": {},
   "outputs": [
    {
     "name": "stdout",
     "output_type": "stream",
     "text": [
      "Epoch 1/100\n",
      "2803/2803 [==============================] - 3s 775us/step - loss: 0.2552 - tf_rse: 0.5089 - tf_corr: 0.8648 - mean_absolute_error: 0.3660 - mean_squared_error: 0.2552 - root_mean_squared_error: 0.5051 - val_loss: 0.2114 - val_tf_rse: 1.0200 - val_tf_corr: 0.3795 - val_mean_absolute_error: 0.3085 - val_mean_squared_error: 0.2114 - val_root_mean_squared_error: 0.4598\n",
      "Epoch 2/100\n",
      "2803/2803 [==============================] - 2s 729us/step - loss: 0.2314 - tf_rse: 0.4890 - tf_corr: 0.8763 - mean_absolute_error: 0.3495 - mean_squared_error: 0.2314 - root_mean_squared_error: 0.4811 - val_loss: 0.2082 - val_tf_rse: 0.9595 - val_tf_corr: 0.3746 - val_mean_absolute_error: 0.2981 - val_mean_squared_error: 0.2082 - val_root_mean_squared_error: 0.4563\n",
      "Epoch 3/100\n",
      "2803/2803 [==============================] - 2s 763us/step - loss: 0.2306 - tf_rse: 0.4857 - tf_corr: 0.8778 - mean_absolute_error: 0.3487 - mean_squared_error: 0.2306 - root_mean_squared_error: 0.4802 - val_loss: 0.2122 - val_tf_rse: 0.9626 - val_tf_corr: 0.3754 - val_mean_absolute_error: 0.3037 - val_mean_squared_error: 0.2122 - val_root_mean_squared_error: 0.4606\n",
      "Epoch 4/100\n",
      "2803/2803 [==============================] - 2s 740us/step - loss: 0.2293 - tf_rse: 0.4853 - tf_corr: 0.8780 - mean_absolute_error: 0.3479 - mean_squared_error: 0.2293 - root_mean_squared_error: 0.4789 - val_loss: 0.2082 - val_tf_rse: 0.9695 - val_tf_corr: 0.3752 - val_mean_absolute_error: 0.3017 - val_mean_squared_error: 0.2082 - val_root_mean_squared_error: 0.4563\n",
      "Epoch 5/100\n",
      "2803/2803 [==============================] - 2s 736us/step - loss: 0.2305 - tf_rse: 0.4866 - tf_corr: 0.8775 - mean_absolute_error: 0.3486 - mean_squared_error: 0.2305 - root_mean_squared_error: 0.4801 - val_loss: 0.2081 - val_tf_rse: 0.9702 - val_tf_corr: 0.3760 - val_mean_absolute_error: 0.3016 - val_mean_squared_error: 0.2081 - val_root_mean_squared_error: 0.4561\n",
      "Epoch 6/100\n",
      "2803/2803 [==============================] - 2s 737us/step - loss: 0.2286 - tf_rse: 0.4853 - tf_corr: 0.8775 - mean_absolute_error: 0.3473 - mean_squared_error: 0.2286 - root_mean_squared_error: 0.4781 - val_loss: 0.2119 - val_tf_rse: 0.9854 - val_tf_corr: 0.3738 - val_mean_absolute_error: 0.3064 - val_mean_squared_error: 0.2119 - val_root_mean_squared_error: 0.4604\n",
      "Epoch 7/100\n",
      "2803/2803 [==============================] - 2s 722us/step - loss: 0.2291 - tf_rse: 0.4848 - tf_corr: 0.8781 - mean_absolute_error: 0.3471 - mean_squared_error: 0.2291 - root_mean_squared_error: 0.4787 - val_loss: 0.2308 - val_tf_rse: 0.9952 - val_tf_corr: 0.3741 - val_mean_absolute_error: 0.3203 - val_mean_squared_error: 0.2308 - val_root_mean_squared_error: 0.4804\n",
      "Epoch 8/100\n",
      "2803/2803 [==============================] - 2s 732us/step - loss: 0.2281 - tf_rse: 0.4844 - tf_corr: 0.8785 - mean_absolute_error: 0.3469 - mean_squared_error: 0.2281 - root_mean_squared_error: 0.4776 - val_loss: 0.2169 - val_tf_rse: 0.9937 - val_tf_corr: 0.3767 - val_mean_absolute_error: 0.3127 - val_mean_squared_error: 0.2169 - val_root_mean_squared_error: 0.4657\n",
      "Epoch 9/100\n",
      "2803/2803 [==============================] - 2s 743us/step - loss: 0.2284 - tf_rse: 0.4839 - tf_corr: 0.8786 - mean_absolute_error: 0.3468 - mean_squared_error: 0.2284 - root_mean_squared_error: 0.4780 - val_loss: 0.2180 - val_tf_rse: 1.0365 - val_tf_corr: 0.3716 - val_mean_absolute_error: 0.3141 - val_mean_squared_error: 0.2180 - val_root_mean_squared_error: 0.4669\n",
      "Epoch 10/100\n",
      "2803/2803 [==============================] - 2s 731us/step - loss: 0.2284 - tf_rse: 0.4844 - tf_corr: 0.8782 - mean_absolute_error: 0.3469 - mean_squared_error: 0.2284 - root_mean_squared_error: 0.4779 - val_loss: 0.2177 - val_tf_rse: 0.9792 - val_tf_corr: 0.3731 - val_mean_absolute_error: 0.3091 - val_mean_squared_error: 0.2177 - val_root_mean_squared_error: 0.4666\n",
      "Epoch 11/100\n",
      "2803/2803 [==============================] - 2s 722us/step - loss: 0.2287 - tf_rse: 0.4841 - tf_corr: 0.8786 - mean_absolute_error: 0.3467 - mean_squared_error: 0.2287 - root_mean_squared_error: 0.4782 - val_loss: 0.2077 - val_tf_rse: 0.9678 - val_tf_corr: 0.3784 - val_mean_absolute_error: 0.3012 - val_mean_squared_error: 0.2077 - val_root_mean_squared_error: 0.4557\n",
      "Epoch 12/100\n",
      "2803/2803 [==============================] - 2s 743us/step - loss: 0.2283 - tf_rse: 0.4852 - tf_corr: 0.8777 - mean_absolute_error: 0.3468 - mean_squared_error: 0.2283 - root_mean_squared_error: 0.4778 - val_loss: 0.2118 - val_tf_rse: 0.9888 - val_tf_corr: 0.3731 - val_mean_absolute_error: 0.3032 - val_mean_squared_error: 0.2118 - val_root_mean_squared_error: 0.4602\n",
      "Epoch 13/100\n",
      "2803/2803 [==============================] - 2s 720us/step - loss: 0.2267 - tf_rse: 0.4841 - tf_corr: 0.8781 - mean_absolute_error: 0.3457 - mean_squared_error: 0.2267 - root_mean_squared_error: 0.4761 - val_loss: 0.2170 - val_tf_rse: 0.9717 - val_tf_corr: 0.3761 - val_mean_absolute_error: 0.3077 - val_mean_squared_error: 0.2170 - val_root_mean_squared_error: 0.4658\n",
      "Epoch 14/100\n",
      "2803/2803 [==============================] - 2s 727us/step - loss: 0.2278 - tf_rse: 0.4841 - tf_corr: 0.8781 - mean_absolute_error: 0.3467 - mean_squared_error: 0.2278 - root_mean_squared_error: 0.4773 - val_loss: 0.2129 - val_tf_rse: 0.9653 - val_tf_corr: 0.3800 - val_mean_absolute_error: 0.3044 - val_mean_squared_error: 0.2129 - val_root_mean_squared_error: 0.4614\n",
      "Epoch 15/100\n",
      "2803/2803 [==============================] - 2s 719us/step - loss: 0.2269 - tf_rse: 0.4824 - tf_corr: 0.8790 - mean_absolute_error: 0.3456 - mean_squared_error: 0.2269 - root_mean_squared_error: 0.4763 - val_loss: 0.2116 - val_tf_rse: 0.9774 - val_tf_corr: 0.3740 - val_mean_absolute_error: 0.3028 - val_mean_squared_error: 0.2116 - val_root_mean_squared_error: 0.4600\n",
      "Epoch 16/100\n",
      "2803/2803 [==============================] - 2s 735us/step - loss: 0.2274 - tf_rse: 0.4822 - tf_corr: 0.8788 - mean_absolute_error: 0.3458 - mean_squared_error: 0.2274 - root_mean_squared_error: 0.4768 - val_loss: 0.2106 - val_tf_rse: 0.9771 - val_tf_corr: 0.3737 - val_mean_absolute_error: 0.3028 - val_mean_squared_error: 0.2106 - val_root_mean_squared_error: 0.4589\n",
      "Epoch 17/100\n",
      "2803/2803 [==============================] - 2s 729us/step - loss: 0.2275 - tf_rse: 0.4841 - tf_corr: 0.8772 - mean_absolute_error: 0.3458 - mean_squared_error: 0.2275 - root_mean_squared_error: 0.4769 - val_loss: 0.2085 - val_tf_rse: 0.9762 - val_tf_corr: 0.3792 - val_mean_absolute_error: 0.3033 - val_mean_squared_error: 0.2085 - val_root_mean_squared_error: 0.4566\n",
      "Epoch 18/100\n",
      "2803/2803 [==============================] - 2s 731us/step - loss: 0.2273 - tf_rse: 0.4831 - tf_corr: 0.8787 - mean_absolute_error: 0.3461 - mean_squared_error: 0.2273 - root_mean_squared_error: 0.4768 - val_loss: 0.2162 - val_tf_rse: 0.9871 - val_tf_corr: 0.3764 - val_mean_absolute_error: 0.3101 - val_mean_squared_error: 0.2162 - val_root_mean_squared_error: 0.4650\n",
      "Epoch 19/100\n",
      "2803/2803 [==============================] - 2s 729us/step - loss: 0.2277 - tf_rse: 0.4835 - tf_corr: 0.8785 - mean_absolute_error: 0.3460 - mean_squared_error: 0.2277 - root_mean_squared_error: 0.4772 - val_loss: 0.2128 - val_tf_rse: 0.9562 - val_tf_corr: 0.3763 - val_mean_absolute_error: 0.3006 - val_mean_squared_error: 0.2128 - val_root_mean_squared_error: 0.4614\n",
      "Epoch 20/100\n",
      "2803/2803 [==============================] - 2s 728us/step - loss: 0.2270 - tf_rse: 0.4819 - tf_corr: 0.8794 - mean_absolute_error: 0.3455 - mean_squared_error: 0.2270 - root_mean_squared_error: 0.4764 - val_loss: 0.2148 - val_tf_rse: 0.9677 - val_tf_corr: 0.3755 - val_mean_absolute_error: 0.3063 - val_mean_squared_error: 0.2148 - val_root_mean_squared_error: 0.4635\n",
      "Epoch 21/100\n",
      "2803/2803 [==============================] - 2s 750us/step - loss: 0.2273 - tf_rse: 0.4835 - tf_corr: 0.8779 - mean_absolute_error: 0.3460 - mean_squared_error: 0.2273 - root_mean_squared_error: 0.4767 - val_loss: 0.2091 - val_tf_rse: 0.9626 - val_tf_corr: 0.3754 - val_mean_absolute_error: 0.3015 - val_mean_squared_error: 0.2091 - val_root_mean_squared_error: 0.4573\n"
     ]
    },
    {
     "data": {
      "text/plain": [
       "<keras.callbacks.History at 0x2320bbbafd0>"
      ]
     },
     "execution_count": 16,
     "metadata": {},
     "output_type": "execute_result"
    }
   ],
   "source": [
    "linear.fit(Data.train[0][:,:,:], Data.train[1][:,0].reshape(Data.train[1][:,0].shape[0],1), epochs=100, validation_data=(Data.valid[0][:,:,:], Data.valid[1][:,0].reshape(Data.valid[1][:,0].shape[0],1)), callbacks=[early_stopping])"
   ]
  },
  {
   "cell_type": "code",
   "execution_count": 17,
   "metadata": {},
   "outputs": [
    {
     "name": "stdout",
     "output_type": "stream",
     "text": [
      "789/789 [==============================] - 0s 549us/step - loss: 0.1138 - tf_rse: 0.9270 - tf_corr: 0.3238 - mean_absolute_error: 0.2338 - mean_squared_error: 0.1138 - root_mean_squared_error: 0.3374\n"
     ]
    },
    {
     "data": {
      "text/plain": [
       "[0.11382877826690674,\n",
       " 0.9269564747810364,\n",
       " 0.3238242566585541,\n",
       " 0.2337808609008789,\n",
       " 0.11382877826690674,\n",
       " 0.3373852074146271]"
      ]
     },
     "execution_count": 17,
     "metadata": {},
     "output_type": "execute_result"
    }
   ],
   "source": [
    "#linear_stats = linear.evaluate(Data.test[0], Data.test[1][:,0].reshape(2933,1))\n",
    "linear_stats = linear.evaluate(Data.test[0], Data.test[1][:,0].reshape(25230,1))\n",
    "\n",
    "linear_stats"
   ]
  },
  {
   "cell_type": "code",
   "execution_count": 18,
   "metadata": {},
   "outputs": [],
   "source": [
    "linear_predicted = linear.predict(Data.test[0][:,:,:])\n",
    "\n",
    "np.save('predicted_results/mlp_predicted.npy', linear_predicted)\n",
    "np.savetxt('predicted_results/mlp_predicted.txt', linear_predicted)\n",
    "linear.save_weights('./checkpoints/linear_weights')"
   ]
  },
  {
   "cell_type": "code",
   "execution_count": 75,
   "metadata": {},
   "outputs": [
    {
     "name": "stdout",
     "output_type": "stream",
     "text": [
      "1.1629376411437988\n",
      "IQR: 0.4694589674472809\n",
      "Quartile Deviation: 0.23472948372364044\n",
      "High Range: 0.7041884511709213\n",
      "Low Range: 0.23472948372364044\n",
      "[[-0.06678572 -1.0608518   0.52944064]\n",
      " [ 1.1081389  -1.0606258   0.52944064]\n",
      " [ 1.5025316  -1.0607388   0.52944064]\n",
      " [ 0.6563658  -1.061674    0.52944064]\n",
      " [ 1.1382048  -1.0564842   0.52944064]\n",
      " [ 1.1883144  -0.9965511   0.52944064]\n",
      " [ 1.4938853  -0.9967772   0.52944064]\n",
      " [ 0.8849052  -1.0567822   0.52944064]\n",
      " [ 1.1407593  -1.0555183   0.52944064]\n",
      " [-0.9962712  -0.99243015  0.52944064]]\n"
     ]
    }
   ],
   "source": [
    "from scipy.stats import iqr\n",
    "import matplotlib.cm as cm\n",
    "Data.test[1][0:25230,0]\n",
    "linear_predicted[0:25230]\n",
    "inquartileRange = iqr(Data.test[1][0:25230,0],interpolation = 'midpoint')\n",
    "print(inquartileRange)\n",
    "higherRange = inquartileRange * 1.5\n",
    "\n",
    "import numpy as np\n",
    "# First quartile (Q1)\n",
    "#print(Data.test[])\n",
    "Q1 = np.median(Data.test[1][:12615,0])\n",
    "  \n",
    "# Third quartile (Q3)\n",
    "Q3 = np.median(Data.test[1][12615:,0])\n",
    "  \n",
    "# Interquartile range (IQR)\n",
    "IQR = Q3 - Q1\n",
    "print(f\"IQR: {IQR}\")\n",
    "# Quartile Deviation\n",
    "qd = IQR / 2\n",
    "  \n",
    "print(f\"Quartile Deviation: {qd}\")\n",
    "highRange = IQR + qd\n",
    "lowRange = IQR - qd\n",
    "print(f\"High Range: {highRange}\")\n",
    "print(f\"Low Range: {lowRange}\")\n",
    "# plt.plot(Data.test[1][0:25230,0])\n",
    "# print(linear_predicted[0:25230])\n",
    "# anomolyList =[]\n",
    "# anomolyListXCoords =[]\n",
    "# count = 0\n",
    "# for x in Data.test[1][0:25230,0]:\n",
    "#     if x > 2 or x <-1:\n",
    "#         anomolyList.append([x])\n",
    "#         anomolyListXCoords.append(count)\n",
    "#     count = count + 1\n",
    "# colors = cm.rainbow(np.linspace(1, 1, 2119))\n",
    "# #print(anomolyList)\n",
    "# #plt.scatter(linear_predicted[0:25230])\n",
    "# plt.scatter(anomolyListXCoords, anomolyList, c=colors)\n",
    "# plt.legend([\"Actual\", \"Anomoly Points\"])\n",
    "# plt.show()\n",
    "print(Data.test[0][1,:])\n",
    "#Data.test[x] shows data in the format [throughput, latency, bufferSize] . Focus Anomoly detection on both Throughput and Latency"
   ]
  },
  {
   "cell_type": "code",
   "execution_count": 73,
   "metadata": {},
   "outputs": [
    {
     "name": "stdout",
     "output_type": "stream",
     "text": [
      "[[0.95601374]\n",
      " [0.38862905]\n",
      " [0.61144906]\n",
      " ...\n",
      " [1.8869147 ]\n",
      " [1.8332567 ]\n",
      " [1.9149475 ]]\n"
     ]
    },
    {
     "data": {
      "image/png": "[encoded data removed]",
      "text/plain": [
       "<Figure size 432x288 with 1 Axes>"
      ]
     },
     "metadata": {
      "needs_background": "light"
     },
     "output_type": "display_data"
    }
   ],
   "source": [
    "import scipy\n",
    "import matplotlib.cm as cm\n",
    "Data.test[1][0:25230,0]\n",
    "linear_predicted[0:25230]\n",
    "plt.plot(Data.test[1][0:25230,0])\n",
    "print(linear_predicted[0:25230])\n",
    "anomolyList =[]\n",
    "anomolyListXCoords =[]\n",
    "count = 0\n",
    "for x in Data.test[1][0:25230,0]:\n",
    "    if x > .704188 or x < .2347295:\n",
    "    #if x > 2 or x < -1:\n",
    "    \n",
    "        anomolyList.append([x])\n",
    "        anomolyListXCoords.append(count)\n",
    "    count = count + 1\n",
    "colors = cm.rainbow(np.linspace(1, 1, 20767))\n",
    "#print(anomolyList)\n",
    "#plt.scatter(linear_predicted[0:25230])\n",
    "plt.scatter(anomolyListXCoords, anomolyList, c=colors)\n",
    "plt.legend([\"Actual\", \"Anomoly Points\"])\n",
    "plt.show()"
   ]
  },
  {
   "cell_type": "code",
   "execution_count": 67,
   "metadata": {},
   "outputs": [
    {
     "data": {
      "image/png": "[encoded data removed]",
      "text/plain": [
       "<Figure size 432x288 with 1 Axes>"
      ]
     },
     "metadata": {
      "needs_background": "light"
     },
     "output_type": "display_data"
    }
   ],
   "source": [
    "plt.plot(Data.test[1][0:25230,0])\n",
    "plt.plot(linear_predicted[0:25230])\n",
    "plt.legend([\"Actual\", \"Predicted\"])\n",
    "plt.show()"
   ]
  },
  {
   "cell_type": "code",
   "execution_count": 21,
   "metadata": {},
   "outputs": [
    {
     "name": "stdout",
     "output_type": "stream",
     "text": [
      "MSE: 0.11382879316806793\n",
      "RMSE: 0.3373852296234498\n",
      "MAE: 0.2337808609008789\n",
      "RSE: 0.37707647681236267\n"
     ]
    }
   ],
   "source": [
    "from sklearn.metrics import mean_squared_error, mean_absolute_error\n",
    "from math import sqrt\n",
    "\n",
    "mse = mean_squared_error(Data.test[1][:,0], linear_predicted.flatten())\n",
    "rmse = sqrt(mean_squared_error(Data.test[1][:,0], linear_predicted.flatten()))\n",
    "mae = mean_absolute_error(Data.test[1][:,0], linear_predicted.flatten())\n",
    "rse_val = rse(Data.test[1][:,0], linear_predicted.flatten())\n",
    "\n",
    "print(f'MSE: {mse}')\n",
    "print(f'RMSE: {rmse}')\n",
    "print(f'MAE: {mae}')\n",
    "print(f'RSE: {rse_val}')\n",
    "\n",
    "accuracy_stats['rmse']['mlp'] = rmse\n",
    "accuracy_stats['rse']['mlp'] = rse_val\n",
    "# accuracy_stats['corr']['mlp'] = corr\n",
    "# accuracy_stats['accuracy']['mlp'] = acc\n",
    "accuracy_stats['mae']['mlp'] = mae\n",
    "accuracy_stats['predicted']['mlp'] = linear_predicted\n",
    "accuracy_stats['mse']['mlp'] = mse"
   ]
  },
  {
   "cell_type": "markdown",
   "metadata": {},
   "source": [
    "## SIMPLE LSTM\n",
    "\n",
    "Here we run our data through a simple lstm for comparison"
   ]
  },
  {
   "cell_type": "code",
   "execution_count": 22,
   "metadata": {},
   "outputs": [
    {
     "data": {
      "text/plain": [
       "array([ 0.05524609,  0.05917626,  0.04876131, -0.14597867, -0.03554086,\n",
       "        0.15605499,  0.3653366 ,  0.09808496,  0.18454872, -0.01471096],\n",
       "      dtype=float32)"
      ]
     },
     "execution_count": 22,
     "metadata": {},
     "output_type": "execute_result"
    }
   ],
   "source": [
    "Data.train[0][:,:,0][0]"
   ]
  },
  {
   "cell_type": "code",
   "execution_count": 23,
   "metadata": {},
   "outputs": [
    {
     "data": {
      "text/plain": [
       "array([ 0.05524609,  0.05917626,  0.04876131, -0.14597867, -0.03554086,\n",
       "        0.15605499,  0.3653366 ,  0.09808496,  0.18454872, -0.01471096],\n",
       "      dtype=float32)"
      ]
     },
     "execution_count": 23,
     "metadata": {},
     "output_type": "execute_result"
    }
   ],
   "source": [
    "Data.train[0][:,:,0][0]"
   ]
  },
  {
   "cell_type": "code",
   "execution_count": 24,
   "metadata": {},
   "outputs": [],
   "source": [
    "# define lstm network\n",
    "\n",
    "# lstm_model = tf.keras.models.Sequential([\n",
    "#     # Shape [batch, time, features] => [batch, time, lstm_units]\n",
    "#     tf.keras.layers.GRU(32, input_shape=(10), return_sequences=False),\n",
    "#     # Shape => [batch, time, features]\n",
    "#     tf.keras.layers.Dense(units=1)\n",
    "# ])\n",
    "\n",
    "ts_inputs = tf.keras.Input(shape=(10,3))\n",
    "x = tf.keras.layers.LSTM(units=250, dropout=0.1, recurrent_dropout=0.1)(ts_inputs)\n",
    "# x = tf.keras.layers.Dropout(0.2)(x)\n",
    "outputs = tf.keras.layers.Dense(1,activation='linear')(x)\n",
    "lstm_model = tf.keras.Model(inputs=ts_inputs, outputs=outputs)"
   ]
  },
  {
   "cell_type": "code",
   "execution_count": 25,
   "metadata": {},
   "outputs": [],
   "source": [
    "lstm_model.compile(loss=tf.losses.MeanSquaredError(),\n",
    "                optimizer=tf.optimizers.Adam(),\n",
    "                metrics=[tf_rse, tf_corr, tf.metrics.MeanAbsoluteError(), tf.metrics.MeanSquaredError(), tf.metrics.RootMeanSquaredError()])"
   ]
  },
  {
   "cell_type": "code",
   "execution_count": 26,
   "metadata": {},
   "outputs": [
    {
     "name": "stdout",
     "output_type": "stream",
     "text": [
      "Model: \"model\"\n",
      "_________________________________________________________________\n",
      " Layer (type)                Output Shape              Param #   \n",
      "=================================================================\n",
      " input_1 (InputLayer)        [(None, 10, 3)]           0         \n",
      "                                                                 \n",
      " lstm (LSTM)                 (None, 250)               254000    \n",
      "                                                                 \n",
      " dense_3 (Dense)             (None, 1)                 251       \n",
      "                                                                 \n",
      "=================================================================\n",
      "Total params: 254,251\n",
      "Trainable params: 254,251\n",
      "Non-trainable params: 0\n",
      "_________________________________________________________________\n"
     ]
    }
   ],
   "source": [
    "lstm_model.summary()"
   ]
  },
  {
   "cell_type": "code",
   "execution_count": 27,
   "metadata": {},
   "outputs": [
    {
     "name": "stdout",
     "output_type": "stream",
     "text": [
      "Epoch 1/100\n",
      "2803/2803 [==============================] - 40s 14ms/step - loss: 0.2354 - tf_rse: 1.5506 - tf_corr: 0.1570 - mean_absolute_error: 0.3564 - mean_squared_error: 0.2354 - root_mean_squared_error: 0.4852 - val_loss: 0.2379 - val_tf_rse: 1.1086 - val_tf_corr: 0.3902 - val_mean_absolute_error: 0.3452 - val_mean_squared_error: 0.2379 - val_root_mean_squared_error: 0.4877\n",
      "Epoch 2/100\n",
      "2803/2803 [==============================] - 37s 13ms/step - loss: 0.2233 - tf_rse: 1.3296 - tf_corr: 0.1561 - mean_absolute_error: 0.3463 - mean_squared_error: 0.2233 - root_mean_squared_error: 0.4725 - val_loss: 0.2323 - val_tf_rse: 1.1090 - val_tf_corr: 0.3800 - val_mean_absolute_error: 0.3385 - val_mean_squared_error: 0.2323 - val_root_mean_squared_error: 0.4820\n",
      "Epoch 3/100\n",
      "2803/2803 [==============================] - 37s 13ms/step - loss: 0.2162 - tf_rse: 1.2856 - tf_corr: 0.1587 - mean_absolute_error: 0.3395 - mean_squared_error: 0.2162 - root_mean_squared_error: 0.4650 - val_loss: 0.2262 - val_tf_rse: 1.0889 - val_tf_corr: 0.3673 - val_mean_absolute_error: 0.3292 - val_mean_squared_error: 0.2262 - val_root_mean_squared_error: 0.4756\n",
      "Epoch 4/100\n",
      "2803/2803 [==============================] - 37s 13ms/step - loss: 0.2135 - tf_rse: 1.2484 - tf_corr: 0.1607 - mean_absolute_error: 0.3365 - mean_squared_error: 0.2135 - root_mean_squared_error: 0.4620 - val_loss: 0.2202 - val_tf_rse: 1.0320 - val_tf_corr: 0.3601 - val_mean_absolute_error: 0.3143 - val_mean_squared_error: 0.2202 - val_root_mean_squared_error: 0.4693\n",
      "Epoch 5/100\n",
      "2803/2803 [==============================] - 37s 13ms/step - loss: 0.2103 - tf_rse: 1.2283 - tf_corr: 0.1626 - mean_absolute_error: 0.3335 - mean_squared_error: 0.2103 - root_mean_squared_error: 0.4586 - val_loss: 0.2202 - val_tf_rse: 1.0489 - val_tf_corr: 0.3658 - val_mean_absolute_error: 0.3179 - val_mean_squared_error: 0.2202 - val_root_mean_squared_error: 0.4692\n",
      "Epoch 6/100\n",
      " 902/2803 [========>.....................] - ETA: 22s - loss: 0.1676 - tf_rse: 1.0101 - tf_corr: 0.1657 - mean_absolute_error: 0.3091 - mean_squared_error: 0.1676 - root_mean_squared_error: 0.4093"
     ]
    },
    {
     "ename": "KeyboardInterrupt",
     "evalue": "",
     "output_type": "error",
     "traceback": [
      "\u001b[1;31m---------------------------------------------------------------------------\u001b[0m",
      "\u001b[1;31mKeyboardInterrupt\u001b[0m                         Traceback (most recent call last)",
      "\u001b[1;32m<ipython-input-27-c5233b5064ed>\u001b[0m in \u001b[0;36m<module>\u001b[1;34m\u001b[0m\n\u001b[1;32m----> 1\u001b[1;33m history = lstm_model.fit(Data.train[0][:,:,:], Data.train[1][:,0], \n\u001b[0m\u001b[0;32m      2\u001b[0m                \u001b[0mepochs\u001b[0m\u001b[1;33m=\u001b[0m\u001b[1;36m100\u001b[0m\u001b[1;33m,\u001b[0m\u001b[1;33m\u001b[0m\u001b[1;33m\u001b[0m\u001b[0m\n\u001b[0;32m      3\u001b[0m                \u001b[0mvalidation_data\u001b[0m\u001b[1;33m=\u001b[0m\u001b[1;33m(\u001b[0m\u001b[0mData\u001b[0m\u001b[1;33m.\u001b[0m\u001b[0mvalid\u001b[0m\u001b[1;33m[\u001b[0m\u001b[1;36m0\u001b[0m\u001b[1;33m]\u001b[0m\u001b[1;33m[\u001b[0m\u001b[1;33m:\u001b[0m\u001b[1;33m,\u001b[0m\u001b[1;33m:\u001b[0m\u001b[1;33m,\u001b[0m\u001b[1;33m:\u001b[0m\u001b[1;33m]\u001b[0m\u001b[1;33m,\u001b[0m \u001b[0mData\u001b[0m\u001b[1;33m.\u001b[0m\u001b[0mvalid\u001b[0m\u001b[1;33m[\u001b[0m\u001b[1;36m1\u001b[0m\u001b[1;33m]\u001b[0m\u001b[1;33m[\u001b[0m\u001b[1;33m:\u001b[0m\u001b[1;33m,\u001b[0m\u001b[1;36m0\u001b[0m\u001b[1;33m]\u001b[0m\u001b[1;33m)\u001b[0m\u001b[1;33m,\u001b[0m\u001b[1;33m\u001b[0m\u001b[1;33m\u001b[0m\u001b[0m\n\u001b[0;32m      4\u001b[0m                \u001b[0mcallbacks\u001b[0m\u001b[1;33m=\u001b[0m\u001b[1;33m[\u001b[0m\u001b[0mearly_stopping\u001b[0m\u001b[1;33m]\u001b[0m\u001b[1;33m,\u001b[0m\u001b[1;33m\u001b[0m\u001b[1;33m\u001b[0m\u001b[0m\n\u001b[0;32m      5\u001b[0m                shuffle=False)\n",
      "\u001b[1;32mC:\\ProgramData\\Anaconda3\\lib\\site-packages\\keras\\utils\\traceback_utils.py\u001b[0m in \u001b[0;36merror_handler\u001b[1;34m(*args, **kwargs)\u001b[0m\n\u001b[0;32m     62\u001b[0m     \u001b[0mfiltered_tb\u001b[0m \u001b[1;33m=\u001b[0m \u001b[1;32mNone\u001b[0m\u001b[1;33m\u001b[0m\u001b[1;33m\u001b[0m\u001b[0m\n\u001b[0;32m     63\u001b[0m     \u001b[1;32mtry\u001b[0m\u001b[1;33m:\u001b[0m\u001b[1;33m\u001b[0m\u001b[1;33m\u001b[0m\u001b[0m\n\u001b[1;32m---> 64\u001b[1;33m       \u001b[1;32mreturn\u001b[0m \u001b[0mfn\u001b[0m\u001b[1;33m(\u001b[0m\u001b[1;33m*\u001b[0m\u001b[0margs\u001b[0m\u001b[1;33m,\u001b[0m \u001b[1;33m**\u001b[0m\u001b[0mkwargs\u001b[0m\u001b[1;33m)\u001b[0m\u001b[1;33m\u001b[0m\u001b[1;33m\u001b[0m\u001b[0m\n\u001b[0m\u001b[0;32m     65\u001b[0m     \u001b[1;32mexcept\u001b[0m \u001b[0mException\u001b[0m \u001b[1;32mas\u001b[0m \u001b[0me\u001b[0m\u001b[1;33m:\u001b[0m  \u001b[1;31m# pylint: disable=broad-except\u001b[0m\u001b[1;33m\u001b[0m\u001b[1;33m\u001b[0m\u001b[0m\n\u001b[0;32m     66\u001b[0m       \u001b[0mfiltered_tb\u001b[0m \u001b[1;33m=\u001b[0m \u001b[0m_process_traceback_frames\u001b[0m\u001b[1;33m(\u001b[0m\u001b[0me\u001b[0m\u001b[1;33m.\u001b[0m\u001b[0m__traceback__\u001b[0m\u001b[1;33m)\u001b[0m\u001b[1;33m\u001b[0m\u001b[1;33m\u001b[0m\u001b[0m\n",
      "\u001b[1;32mC:\\ProgramData\\Anaconda3\\lib\\site-packages\\keras\\engine\\training.py\u001b[0m in \u001b[0;36mfit\u001b[1;34m(self, x, y, batch_size, epochs, verbose, callbacks, validation_split, validation_data, shuffle, class_weight, sample_weight, initial_epoch, steps_per_epoch, validation_steps, validation_batch_size, validation_freq, max_queue_size, workers, use_multiprocessing)\u001b[0m\n\u001b[0;32m   1214\u001b[0m                 _r=1):\n\u001b[0;32m   1215\u001b[0m               \u001b[0mcallbacks\u001b[0m\u001b[1;33m.\u001b[0m\u001b[0mon_train_batch_begin\u001b[0m\u001b[1;33m(\u001b[0m\u001b[0mstep\u001b[0m\u001b[1;33m)\u001b[0m\u001b[1;33m\u001b[0m\u001b[1;33m\u001b[0m\u001b[0m\n\u001b[1;32m-> 1216\u001b[1;33m               \u001b[0mtmp_logs\u001b[0m \u001b[1;33m=\u001b[0m \u001b[0mself\u001b[0m\u001b[1;33m.\u001b[0m\u001b[0mtrain_function\u001b[0m\u001b[1;33m(\u001b[0m\u001b[0miterator\u001b[0m\u001b[1;33m)\u001b[0m\u001b[1;33m\u001b[0m\u001b[1;33m\u001b[0m\u001b[0m\n\u001b[0m\u001b[0;32m   1217\u001b[0m               \u001b[1;32mif\u001b[0m \u001b[0mdata_handler\u001b[0m\u001b[1;33m.\u001b[0m\u001b[0mshould_sync\u001b[0m\u001b[1;33m:\u001b[0m\u001b[1;33m\u001b[0m\u001b[1;33m\u001b[0m\u001b[0m\n\u001b[0;32m   1218\u001b[0m                 \u001b[0mcontext\u001b[0m\u001b[1;33m.\u001b[0m\u001b[0masync_wait\u001b[0m\u001b[1;33m(\u001b[0m\u001b[1;33m)\u001b[0m\u001b[1;33m\u001b[0m\u001b[1;33m\u001b[0m\u001b[0m\n",
      "\u001b[1;32mC:\\ProgramData\\Anaconda3\\lib\\site-packages\\tensorflow\\python\\util\\traceback_utils.py\u001b[0m in \u001b[0;36merror_handler\u001b[1;34m(*args, **kwargs)\u001b[0m\n\u001b[0;32m    148\u001b[0m     \u001b[0mfiltered_tb\u001b[0m \u001b[1;33m=\u001b[0m \u001b[1;32mNone\u001b[0m\u001b[1;33m\u001b[0m\u001b[1;33m\u001b[0m\u001b[0m\n\u001b[0;32m    149\u001b[0m     \u001b[1;32mtry\u001b[0m\u001b[1;33m:\u001b[0m\u001b[1;33m\u001b[0m\u001b[1;33m\u001b[0m\u001b[0m\n\u001b[1;32m--> 150\u001b[1;33m       \u001b[1;32mreturn\u001b[0m \u001b[0mfn\u001b[0m\u001b[1;33m(\u001b[0m\u001b[1;33m*\u001b[0m\u001b[0margs\u001b[0m\u001b[1;33m,\u001b[0m \u001b[1;33m**\u001b[0m\u001b[0mkwargs\u001b[0m\u001b[1;33m)\u001b[0m\u001b[1;33m\u001b[0m\u001b[1;33m\u001b[0m\u001b[0m\n\u001b[0m\u001b[0;32m    151\u001b[0m     \u001b[1;32mexcept\u001b[0m \u001b[0mException\u001b[0m \u001b[1;32mas\u001b[0m \u001b[0me\u001b[0m\u001b[1;33m:\u001b[0m\u001b[1;33m\u001b[0m\u001b[1;33m\u001b[0m\u001b[0m\n\u001b[0;32m    152\u001b[0m       \u001b[0mfiltered_tb\u001b[0m \u001b[1;33m=\u001b[0m \u001b[0m_process_traceback_frames\u001b[0m\u001b[1;33m(\u001b[0m\u001b[0me\u001b[0m\u001b[1;33m.\u001b[0m\u001b[0m__traceback__\u001b[0m\u001b[1;33m)\u001b[0m\u001b[1;33m\u001b[0m\u001b[1;33m\u001b[0m\u001b[0m\n",
      "\u001b[1;32mC:\\ProgramData\\Anaconda3\\lib\\site-packages\\tensorflow\\python\\eager\\def_function.py\u001b[0m in \u001b[0;36m__call__\u001b[1;34m(self, *args, **kwds)\u001b[0m\n\u001b[0;32m    908\u001b[0m \u001b[1;33m\u001b[0m\u001b[0m\n\u001b[0;32m    909\u001b[0m       \u001b[1;32mwith\u001b[0m \u001b[0mOptionalXlaContext\u001b[0m\u001b[1;33m(\u001b[0m\u001b[0mself\u001b[0m\u001b[1;33m.\u001b[0m\u001b[0m_jit_compile\u001b[0m\u001b[1;33m)\u001b[0m\u001b[1;33m:\u001b[0m\u001b[1;33m\u001b[0m\u001b[1;33m\u001b[0m\u001b[0m\n\u001b[1;32m--> 910\u001b[1;33m         \u001b[0mresult\u001b[0m \u001b[1;33m=\u001b[0m \u001b[0mself\u001b[0m\u001b[1;33m.\u001b[0m\u001b[0m_call\u001b[0m\u001b[1;33m(\u001b[0m\u001b[1;33m*\u001b[0m\u001b[0margs\u001b[0m\u001b[1;33m,\u001b[0m \u001b[1;33m**\u001b[0m\u001b[0mkwds\u001b[0m\u001b[1;33m)\u001b[0m\u001b[1;33m\u001b[0m\u001b[1;33m\u001b[0m\u001b[0m\n\u001b[0m\u001b[0;32m    911\u001b[0m \u001b[1;33m\u001b[0m\u001b[0m\n\u001b[0;32m    912\u001b[0m       \u001b[0mnew_tracing_count\u001b[0m \u001b[1;33m=\u001b[0m \u001b[0mself\u001b[0m\u001b[1;33m.\u001b[0m\u001b[0mexperimental_get_tracing_count\u001b[0m\u001b[1;33m(\u001b[0m\u001b[1;33m)\u001b[0m\u001b[1;33m\u001b[0m\u001b[1;33m\u001b[0m\u001b[0m\n",
      "\u001b[1;32mC:\\ProgramData\\Anaconda3\\lib\\site-packages\\tensorflow\\python\\eager\\def_function.py\u001b[0m in \u001b[0;36m_call\u001b[1;34m(self, *args, **kwds)\u001b[0m\n\u001b[0;32m    940\u001b[0m       \u001b[1;31m# In this case we have created variables on the first call, so we run the\u001b[0m\u001b[1;33m\u001b[0m\u001b[1;33m\u001b[0m\u001b[1;33m\u001b[0m\u001b[0m\n\u001b[0;32m    941\u001b[0m       \u001b[1;31m# defunned version which is guaranteed to never create variables.\u001b[0m\u001b[1;33m\u001b[0m\u001b[1;33m\u001b[0m\u001b[1;33m\u001b[0m\u001b[0m\n\u001b[1;32m--> 942\u001b[1;33m       \u001b[1;32mreturn\u001b[0m \u001b[0mself\u001b[0m\u001b[1;33m.\u001b[0m\u001b[0m_stateless_fn\u001b[0m\u001b[1;33m(\u001b[0m\u001b[1;33m*\u001b[0m\u001b[0margs\u001b[0m\u001b[1;33m,\u001b[0m \u001b[1;33m**\u001b[0m\u001b[0mkwds\u001b[0m\u001b[1;33m)\u001b[0m  \u001b[1;31m# pylint: disable=not-callable\u001b[0m\u001b[1;33m\u001b[0m\u001b[1;33m\u001b[0m\u001b[0m\n\u001b[0m\u001b[0;32m    943\u001b[0m     \u001b[1;32melif\u001b[0m \u001b[0mself\u001b[0m\u001b[1;33m.\u001b[0m\u001b[0m_stateful_fn\u001b[0m \u001b[1;32mis\u001b[0m \u001b[1;32mnot\u001b[0m \u001b[1;32mNone\u001b[0m\u001b[1;33m:\u001b[0m\u001b[1;33m\u001b[0m\u001b[1;33m\u001b[0m\u001b[0m\n\u001b[0;32m    944\u001b[0m       \u001b[1;31m# Release the lock early so that multiple threads can perform the call\u001b[0m\u001b[1;33m\u001b[0m\u001b[1;33m\u001b[0m\u001b[1;33m\u001b[0m\u001b[0m\n",
      "\u001b[1;32mC:\\ProgramData\\Anaconda3\\lib\\site-packages\\tensorflow\\python\\eager\\function.py\u001b[0m in \u001b[0;36m__call__\u001b[1;34m(self, *args, **kwargs)\u001b[0m\n\u001b[0;32m   3128\u001b[0m       (graph_function,\n\u001b[0;32m   3129\u001b[0m        filtered_flat_args) = self._maybe_define_function(args, kwargs)\n\u001b[1;32m-> 3130\u001b[1;33m     return graph_function._call_flat(\n\u001b[0m\u001b[0;32m   3131\u001b[0m         filtered_flat_args, captured_inputs=graph_function.captured_inputs)  # pylint: disable=protected-access\n\u001b[0;32m   3132\u001b[0m \u001b[1;33m\u001b[0m\u001b[0m\n",
      "\u001b[1;32mC:\\ProgramData\\Anaconda3\\lib\\site-packages\\tensorflow\\python\\eager\\function.py\u001b[0m in \u001b[0;36m_call_flat\u001b[1;34m(self, args, captured_inputs, cancellation_manager)\u001b[0m\n\u001b[0;32m   1957\u001b[0m         and executing_eagerly):\n\u001b[0;32m   1958\u001b[0m       \u001b[1;31m# No tape is watching; skip to running the function.\u001b[0m\u001b[1;33m\u001b[0m\u001b[1;33m\u001b[0m\u001b[1;33m\u001b[0m\u001b[0m\n\u001b[1;32m-> 1959\u001b[1;33m       return self._build_call_outputs(self._inference_function.call(\n\u001b[0m\u001b[0;32m   1960\u001b[0m           ctx, args, cancellation_manager=cancellation_manager))\n\u001b[0;32m   1961\u001b[0m     forward_backward = self._select_forward_and_backward_functions(\n",
      "\u001b[1;32mC:\\ProgramData\\Anaconda3\\lib\\site-packages\\tensorflow\\python\\eager\\function.py\u001b[0m in \u001b[0;36mcall\u001b[1;34m(self, ctx, args, cancellation_manager)\u001b[0m\n\u001b[0;32m    596\u001b[0m       \u001b[1;32mwith\u001b[0m \u001b[0m_InterpolateFunctionError\u001b[0m\u001b[1;33m(\u001b[0m\u001b[0mself\u001b[0m\u001b[1;33m)\u001b[0m\u001b[1;33m:\u001b[0m\u001b[1;33m\u001b[0m\u001b[1;33m\u001b[0m\u001b[0m\n\u001b[0;32m    597\u001b[0m         \u001b[1;32mif\u001b[0m \u001b[0mcancellation_manager\u001b[0m \u001b[1;32mis\u001b[0m \u001b[1;32mNone\u001b[0m\u001b[1;33m:\u001b[0m\u001b[1;33m\u001b[0m\u001b[1;33m\u001b[0m\u001b[0m\n\u001b[1;32m--> 598\u001b[1;33m           outputs = execute.execute(\n\u001b[0m\u001b[0;32m    599\u001b[0m               \u001b[0mstr\u001b[0m\u001b[1;33m(\u001b[0m\u001b[0mself\u001b[0m\u001b[1;33m.\u001b[0m\u001b[0msignature\u001b[0m\u001b[1;33m.\u001b[0m\u001b[0mname\u001b[0m\u001b[1;33m)\u001b[0m\u001b[1;33m,\u001b[0m\u001b[1;33m\u001b[0m\u001b[1;33m\u001b[0m\u001b[0m\n\u001b[0;32m    600\u001b[0m               \u001b[0mnum_outputs\u001b[0m\u001b[1;33m=\u001b[0m\u001b[0mself\u001b[0m\u001b[1;33m.\u001b[0m\u001b[0m_num_outputs\u001b[0m\u001b[1;33m,\u001b[0m\u001b[1;33m\u001b[0m\u001b[1;33m\u001b[0m\u001b[0m\n",
      "\u001b[1;32mC:\\ProgramData\\Anaconda3\\lib\\site-packages\\tensorflow\\python\\eager\\execute.py\u001b[0m in \u001b[0;36mquick_execute\u001b[1;34m(op_name, num_outputs, inputs, attrs, ctx, name)\u001b[0m\n\u001b[0;32m     56\u001b[0m   \u001b[1;32mtry\u001b[0m\u001b[1;33m:\u001b[0m\u001b[1;33m\u001b[0m\u001b[1;33m\u001b[0m\u001b[0m\n\u001b[0;32m     57\u001b[0m     \u001b[0mctx\u001b[0m\u001b[1;33m.\u001b[0m\u001b[0mensure_initialized\u001b[0m\u001b[1;33m(\u001b[0m\u001b[1;33m)\u001b[0m\u001b[1;33m\u001b[0m\u001b[1;33m\u001b[0m\u001b[0m\n\u001b[1;32m---> 58\u001b[1;33m     tensors = pywrap_tfe.TFE_Py_Execute(ctx._handle, device_name, op_name,\n\u001b[0m\u001b[0;32m     59\u001b[0m                                         inputs, attrs, num_outputs)\n\u001b[0;32m     60\u001b[0m   \u001b[1;32mexcept\u001b[0m \u001b[0mcore\u001b[0m\u001b[1;33m.\u001b[0m\u001b[0m_NotOkStatusException\u001b[0m \u001b[1;32mas\u001b[0m \u001b[0me\u001b[0m\u001b[1;33m:\u001b[0m\u001b[1;33m\u001b[0m\u001b[1;33m\u001b[0m\u001b[0m\n",
      "\u001b[1;31mKeyboardInterrupt\u001b[0m: "
     ]
    }
   ],
   "source": [
    "history = lstm_model.fit(Data.train[0][:,:,:], Data.train[1][:,0], \n",
    "               epochs=100, \n",
    "               validation_data=(Data.valid[0][:,:,:], Data.valid[1][:,0]), \n",
    "               callbacks=[early_stopping],\n",
    "               shuffle=False)"
   ]
  },
  {
   "cell_type": "code",
   "execution_count": null,
   "metadata": {},
   "outputs": [],
   "source": [
    "lstm_stats = lstm_model.evaluate(Data.test[0][:,:,:], Data.test[1][:,0])\n",
    "lstm_stats"
   ]
  },
  {
   "cell_type": "code",
   "execution_count": null,
   "metadata": {},
   "outputs": [],
   "source": [
    "lstm_predicted = lstm_model.predict(Data.test[0][:,:,:]).flatten()\n",
    "\n",
    "np.save('predicted_results/lstm_predicted.npy', lstm_predicted)\n",
    "np.savetxt('predicted_results/lstm_predicted.txt', lstm_predicted)\n",
    "lstm_model.save_weights('./checkpoints/lstm_weights')"
   ]
  },
  {
   "cell_type": "code",
   "execution_count": null,
   "metadata": {},
   "outputs": [],
   "source": [
    "lstm_predicted = np.load('predicted_results/lstm_predicted.npy')*Data.normalize_std[0] + Data.normalize_mean[0]\n",
    "data_true = Data.test[1][:,0]*Data.normalize_std[0] + Data.normalize_mean[0]\n",
    "def mean_absolute_percentage_error(y_true, y_pred): \n",
    "  return np.mean(np.abs(y_true - y_pred) / np.abs(y_true)) * 100\n",
    "lstm_mape = mean_absolute_percentage_error(data_true, lstm_predicted)\n",
    "lstm_mape"
   ]
  },
  {
   "cell_type": "code",
   "execution_count": null,
   "metadata": {},
   "outputs": [],
   "source": [
    "plt.plot(Data.test[1][0:50,0])\n",
    "plt.plot(lstm_predicted[0:50])\n",
    "plt.show()"
   ]
  },
  {
   "cell_type": "code",
   "execution_count": null,
   "metadata": {},
   "outputs": [],
   "source": [
    "plt.plot(history.history['loss'], label='train')\n",
    "plt.plot(history.history['val_loss'], label='test')\n",
    "plt.legend()\n",
    "plt.show()"
   ]
  },
  {
   "cell_type": "code",
   "execution_count": null,
   "metadata": {},
   "outputs": [],
   "source": []
  },
  {
   "cell_type": "code",
   "execution_count": null,
   "metadata": {},
   "outputs": [],
   "source": []
  },
  {
   "cell_type": "code",
   "execution_count": null,
   "metadata": {},
   "outputs": [],
   "source": [
    "plt.figure(figsize=(25, 10))\n",
    "plt.plot(Data.test[1][:,0],label=\"actual\")\n",
    "plt.plot(lstm_predicted, color='r',label=\"predicted\")\n",
    "plt.legend(loc='best', fontsize='xx-large')\n",
    "plt.xticks(fontsize=18)\n",
    "plt.yticks(fontsize=16)\n",
    "plt.show()"
   ]
  },
  {
   "cell_type": "code",
   "execution_count": null,
   "metadata": {},
   "outputs": [],
   "source": [
    "from sklearn.metrics import mean_squared_error, mean_absolute_error\n",
    "from math import sqrt\n",
    "\n",
    "mse = mean_squared_error(Data.test[1][:,0], lstm_predicted)\n",
    "rmse = sqrt(mean_squared_error(Data.test[1][:,0], lstm_predicted))\n",
    "mae = mean_absolute_error(Data.test[1][:,0], lstm_predicted)\n",
    "rse_val = rse(Data.test[1][:,0], lstm_predicted)\n",
    "\n",
    "print(f'MSE: {mse}')\n",
    "print(f'RMSE: {rmse}')\n",
    "print(f'MAE: {mae}')\n",
    "print(f'RSE: {rse_val}')\n",
    "\n",
    "accuracy_stats['rmse']['lstm'] = rmse\n",
    "accuracy_stats['rse']['lstm'] = rse_val\n",
    "# accuracy_stats['corr']['mlp'] = corr\n",
    "# accuracy_stats['accuracy']['mlp'] = acc\n",
    "accuracy_stats['mae']['lstm'] = mae\n",
    "accuracy_stats['predicted']['lstm'] = lstm_predicted\n",
    "accuracy_stats['mse']['lstm'] = mse"
   ]
  },
  {
   "cell_type": "code",
   "execution_count": null,
   "metadata": {},
   "outputs": [],
   "source": [
    "lstm_predicted.shape"
   ]
  },
  {
   "cell_type": "code",
   "execution_count": null,
   "metadata": {},
   "outputs": [],
   "source": [
    "Data.test[1][:,0].shape"
   ]
  },
  {
   "cell_type": "code",
   "execution_count": null,
   "metadata": {},
   "outputs": [],
   "source": []
  },
  {
   "cell_type": "code",
   "execution_count": null,
   "metadata": {},
   "outputs": [],
   "source": []
  },
  {
   "cell_type": "code",
   "execution_count": null,
   "metadata": {},
   "outputs": [],
   "source": []
  },
  {
   "cell_type": "code",
   "execution_count": null,
   "metadata": {},
   "outputs": [],
   "source": []
  },
  {
   "cell_type": "markdown",
   "metadata": {},
   "source": [
    "## Simple GRU\n",
    "\n",
    "Do the same thing but with a GRU\n"
   ]
  },
  {
   "cell_type": "code",
   "execution_count": null,
   "metadata": {},
   "outputs": [],
   "source": [
    "ts_inputs = tf.keras.Input(shape=(10,3))\n",
    "x = tf.keras.layers.GRU(units=250, dropout=0.1)(ts_inputs)\n",
    "# x = tf.keras.layers.Dropout(0.2)(x)\n",
    "outputs = tf.keras.layers.Dense(1,activation='linear')(x)\n",
    "gru_model = tf.keras.Model(inputs=ts_inputs, outputs=outputs)"
   ]
  },
  {
   "cell_type": "code",
   "execution_count": null,
   "metadata": {},
   "outputs": [],
   "source": [
    "gru_model.compile(loss=tf.losses.MeanSquaredError(),\n",
    "                  optimizer=tf.optimizers.Adam(),\n",
    "                  metrics=[tf_rse, tf_corr, tf.metrics.MeanAbsoluteError(), tf.metrics.MeanSquaredError(), tf.metrics.RootMeanSquaredError()])"
   ]
  },
  {
   "cell_type": "code",
   "execution_count": null,
   "metadata": {},
   "outputs": [],
   "source": [
    "gru_model.summary()"
   ]
  },
  {
   "cell_type": "code",
   "execution_count": null,
   "metadata": {},
   "outputs": [],
   "source": [
    "gru_model.fit(Data.train[0][:,:,:], Data.train[1][:,0], \n",
    "               epochs=100, \n",
    "               validation_data=(Data.valid[0][:,:,:], Data.valid[1][:,0]), \n",
    "               callbacks=[early_stopping],\n",
    "               shuffle=True)"
   ]
  },
  {
   "cell_type": "code",
   "execution_count": null,
   "metadata": {},
   "outputs": [],
   "source": [
    "gru_model.evaluate(Data.test[0][:,:,:], Data.test[1][:,0])"
   ]
  },
  {
   "cell_type": "code",
   "execution_count": null,
   "metadata": {},
   "outputs": [],
   "source": [
    "gru_predicted = gru_model.predict(Data.test[0][:,:,:]).flatten()\n",
    "\n",
    "np.save('predicted_results/gru_predicted.npy', gru_predicted)\n",
    "np.savetxt('predicted_results/gru_predicted.txt', gru_predicted)\n",
    "gru_model.save_weights('./checkpoints/gru_weights')"
   ]
  },
  {
   "cell_type": "code",
   "execution_count": null,
   "metadata": {},
   "outputs": [],
   "source": [
    "gru_predicted = np.load('predicted_results/gru_predicted.npy')*Data.normalize_std[0] + Data.normalize_mean[0]\n",
    "data_true = Data.test[1][:,0]*Data.normalize_std[0] + Data.normalize_mean[0]\n",
    "def mean_absolute_percentage_error(y_true, y_pred): \n",
    "  return np.mean(np.abs(y_true - y_pred) / np.abs(y_true)) * 100\n",
    "gru_mape = mean_absolute_percentage_error(data_true, gru_predicted)\n",
    "gru_mape"
   ]
  },
  {
   "cell_type": "code",
   "execution_count": null,
   "metadata": {},
   "outputs": [],
   "source": [
    "plt.plot(Data.test[1][0:100,0], label='actual')\n",
    "plt.plot(gru_predicted[0:100], label=\"predicted\")\n",
    "plt.legend(loc='best')\n",
    "plt.show()"
   ]
  },
  {
   "cell_type": "code",
   "execution_count": null,
   "metadata": {},
   "outputs": [],
   "source": [
    "from sklearn.metrics import mean_squared_error, mean_absolute_error\n",
    "from math import sqrt\n",
    "\n",
    "mse = mean_squared_error(Data.test[1][:,0], gru_predicted)\n",
    "rmse = sqrt(mean_squared_error(Data.test[1][:,0], gru_predicted))\n",
    "mae = mean_absolute_error(Data.test[1][:,0], gru_predicted)\n",
    "rse_val = rse(Data.test[1][:,0], gru_predicted)\n",
    "\n",
    "print(f'MSE: {mse}')\n",
    "print(f'RMSE: {rmse}')\n",
    "print(f'MAE: {mae}')\n",
    "print(f'RSE: {rse_val}')\n",
    "\n",
    "accuracy_stats['rmse']['gru'] = rmse\n",
    "accuracy_stats['rse']['gru'] = rse_val\n",
    "# accuracy_stats['corr']['mlp'] = corr\n",
    "# accuracy_stats['accuracy']['mlp'] = acc\n",
    "accuracy_stats['mae']['gru'] = mae\n",
    "accuracy_stats['predicted']['gru'] = gru_predicted\n",
    "accuracy_stats['mse']['gru'] = mse"
   ]
  },
  {
   "cell_type": "code",
   "execution_count": null,
   "metadata": {},
   "outputs": [],
   "source": []
  },
  {
   "cell_type": "code",
   "execution_count": null,
   "metadata": {},
   "outputs": [],
   "source": []
  },
  {
   "cell_type": "markdown",
   "metadata": {},
   "source": [
    "### CNN MODEL"
   ]
  },
  {
   "cell_type": "code",
   "execution_count": null,
   "metadata": {},
   "outputs": [],
   "source": [
    "from tensorflow.keras.models import Sequential\n",
    "from tensorflow.keras.layers import Dense\n",
    "from tensorflow.keras.layers import Flatten\n",
    "from tensorflow.keras.layers import Conv1D\n",
    "from tensorflow.keras.layers import Conv2D\n",
    "from tensorflow.keras.layers import MaxPooling1D\n",
    "\n",
    "\n",
    "# cnn_model = Sequential()\n",
    "# cnn_model.add(Conv1D(filters=64, kernel_size=5, activation='relu', input_shape=(10, 3)))\n",
    "# cnn_model.add(MaxPooling1D(pool_size=2))\n",
    "# cnn_model.add(Flatten())\n",
    "# cnn_model.add(Dense(50, activation='relu'))\n",
    "# cnn_model.add(Dense(1))\n",
    "# cnn_model.compile(optimizer='adam', loss='mse')\n",
    "\n",
    "cnn_model = Sequential()\n",
    "cnn_model.add(Conv1D(filters=30, kernel_size=5, activation='relu', padding='SAME', strides=1, input_shape=(10, 3)))\n",
    "cnn_model.add(MaxPooling1D(pool_size=2, strides=2))\n",
    "cnn_model.add(Conv1D(filters=45, kernel_size=5, activation='relu', padding='SAME', strides=1))\n",
    "cnn_model.add(MaxPooling1D(pool_size=2, strides=2))\n",
    "cnn_model.add(Conv1D(filters=60, kernel_size=5, activation='relu', padding='SAME', strides=1))\n",
    "cnn_model.add(MaxPooling1D(pool_size=2, strides=2))\n",
    "cnn_model.add(Flatten())\n",
    "cnn_model.add(Dense(120, activation='relu'))\n",
    "cnn_model.add(Dense(1))\n",
    "# cnn_model.compile(optimizer='adam', loss='mse')"
   ]
  },
  {
   "cell_type": "code",
   "execution_count": null,
   "metadata": {},
   "outputs": [],
   "source": [
    "cnn_model.compile(loss=tf.losses.MeanSquaredError(),\n",
    "              optimizer=tf.optimizers.Adam(),\n",
    "              metrics=[tf_rse, tf_corr, tf.metrics.MeanAbsoluteError(), tf.metrics.MeanSquaredError(), tf.metrics.RootMeanSquaredError()])"
   ]
  },
  {
   "cell_type": "code",
   "execution_count": null,
   "metadata": {},
   "outputs": [],
   "source": [
    "cnn_model.summary()"
   ]
  },
  {
   "cell_type": "code",
   "execution_count": null,
   "metadata": {},
   "outputs": [],
   "source": [
    "cnn_model.fit(Data.train[0][:,:,:], Data.train[1][:,0], \n",
    "               epochs=100, \n",
    "               validation_data=(Data.valid[0][:,:,:], Data.valid[1][:,0]), \n",
    "               callbacks=[early_stopping],\n",
    "               shuffle=True)"
   ]
  },
  {
   "cell_type": "code",
   "execution_count": null,
   "metadata": {},
   "outputs": [],
   "source": [
    "cnn_stats = cnn_model.evaluate(Data.test[0][:,:,:], Data.test[1][:,0])\n",
    "cnn_stats"
   ]
  },
  {
   "cell_type": "code",
   "execution_count": null,
   "metadata": {},
   "outputs": [],
   "source": [
    "cnn_predicted = cnn_model.predict(Data.test[0][:,:,:]).flatten()\n",
    "\n",
    "np.save('predicted_results/cnn_predicted.npy', cnn_predicted)\n",
    "np.savetxt('predicted_results/cnn_predicted.txt', cnn_predicted)\n",
    "cnn_model.save_weights('./checkpoints/cnn_weights')"
   ]
  },
  {
   "cell_type": "code",
   "execution_count": null,
   "metadata": {},
   "outputs": [],
   "source": [
    "plt.plot(Data.test[1][0:100,0], label='actual')\n",
    "plt.plot(cnn_predicted[0:100], label=\"predicted\")\n",
    "plt.legend(loc='best')\n",
    "plt.show()"
   ]
  },
  {
   "cell_type": "code",
   "execution_count": null,
   "metadata": {},
   "outputs": [],
   "source": [
    "from sklearn.metrics import mean_squared_error, mean_absolute_error\n",
    "from math import sqrt\n",
    "\n",
    "mse = mean_squared_error(Data.test[1][:,0], cnn_predicted)\n",
    "rmse = sqrt(mean_squared_error(Data.test[1][:,0], cnn_predicted))\n",
    "mae = mean_absolute_error(Data.test[1][:,0], cnn_predicted)\n",
    "rse_val = rse(Data.test[1][:,0], cnn_predicted)\n",
    "\n",
    "print(f'MSE: {mse}')\n",
    "print(f'RMSE: {rmse}')\n",
    "print(f'MAE: {mae}')\n",
    "print(f'RSE: {rse_val}')\n",
    "\n",
    "accuracy_stats['rmse']['cnn'] = rmse\n",
    "accuracy_stats['rse']['cnn'] = rse_val\n",
    "# accuracy_stats['corr']['mlp'] = corr\n",
    "# accuracy_stats['accuracy']['mlp'] = acc\n",
    "accuracy_stats['mae']['cnn'] = mae\n",
    "accuracy_stats['predicted']['cnn'] = cnn_predicted\n",
    "accuracy_stats['mse']['cnn'] = mse"
   ]
  },
  {
   "cell_type": "code",
   "execution_count": null,
   "metadata": {},
   "outputs": [],
   "source": [
    "cnn_predicted = np.load('predicted_results/cnn_predicted.npy')*Data.normalize_std[0] + Data.normalize_mean[0]\n",
    "data_true = Data.test[1][:,0]*Data.normalize_std[0] + Data.normalize_mean[0]\n",
    "\n",
    "cnn_mape = mean_absolute_percentage_error(data_true, cnn_predicted)\n",
    "cnn_mape"
   ]
  },
  {
   "cell_type": "markdown",
   "metadata": {},
   "source": [
    "### CNN-LSTM HYBRID MODEL"
   ]
  },
  {
   "cell_type": "code",
   "execution_count": null,
   "metadata": {},
   "outputs": [],
   "source": [
    "from tensorflow.keras.models import Sequential\n",
    "from tensorflow.keras.layers import Dense, Flatten, Conv1D, Conv2D, LSTM, MaxPooling1D"
   ]
  },
  {
   "cell_type": "code",
   "execution_count": null,
   "metadata": {},
   "outputs": [],
   "source": [
    "cnn_lstm_model = Sequential()\n",
    "cnn_lstm_model.add(Conv1D(filters=64, kernel_size=5, activation='relu', padding='SAME', strides=1, input_shape=(10, 3)))\n",
    "cnn_lstm_model.add(MaxPooling1D(pool_size=2, strides=2))\n",
    "cnn_lstm_model.add(Conv1D(filters=64, kernel_size=3, activation='relu', padding='SAME', strides=1))\n",
    "cnn_lstm_model.add(MaxPooling1D(pool_size=2, strides=2))\n",
    "# cnn_lstm_model.add(Conv1D(filters=10, kernel_size=3, activation='relu', padding='SAME', strides=1))\n",
    "# cnn_lstm_model.add(MaxPooling1D(pool_size=2, strides=2))\n",
    "# cnn_model.add(Flatten())\n",
    "cnn_lstm_model.add(LSTM(32, dropout=0.1, recurrent_dropout=0.1, return_sequences=False))\n",
    "cnn_lstm_model.add(Dense(100, activation='relu'))\n",
    "cnn_lstm_model.add(Dense(1))"
   ]
  },
  {
   "cell_type": "code",
   "execution_count": null,
   "metadata": {},
   "outputs": [],
   "source": [
    "cnn_lstm_model.compile(loss=tf.losses.MeanSquaredError(),\n",
    "                       optimizer=tf.optimizers.Adam(),\n",
    "                       metrics=[tf_rse, tf_corr, tf.metrics.MeanAbsoluteError(), tf.metrics.MeanSquaredError(), tf.metrics.RootMeanSquaredError()])"
   ]
  },
  {
   "cell_type": "code",
   "execution_count": null,
   "metadata": {},
   "outputs": [],
   "source": [
    "cnn_lstm_model.summary()"
   ]
  },
  {
   "cell_type": "code",
   "execution_count": null,
   "metadata": {},
   "outputs": [],
   "source": [
    "cnn_lstm_model.fit(Data.train[0][:,:,:], Data.train[1][:,0], \n",
    "                   epochs=100, \n",
    "                   validation_data=(Data.valid[0][:,:,:], Data.valid[1][:,0]), \n",
    "                   callbacks=[early_stopping],\n",
    "                   shuffle=True)"
   ]
  },
  {
   "cell_type": "code",
   "execution_count": null,
   "metadata": {},
   "outputs": [],
   "source": [
    "cnn_lstm1_stats = cnn_lstm_model.evaluate(Data.test[0][:,:,:], Data.test[1][:,0])\n",
    "cnn_lstm1_stats"
   ]
  },
  {
   "cell_type": "code",
   "execution_count": null,
   "metadata": {},
   "outputs": [],
   "source": [
    "cnn_lstm_predicted = cnn_lstm_model.predict(Data.test[0][:,:,:]).flatten()"
   ]
  },
  {
   "cell_type": "code",
   "execution_count": null,
   "metadata": {},
   "outputs": [],
   "source": [
    "plt.plot(Data.test[1][0:100,0], label='actual')\n",
    "plt.plot(cnn_lstm_predicted[0:100], label=\"predicted\")\n",
    "plt.legend(loc='best')\n",
    "plt.show()"
   ]
  },
  {
   "cell_type": "code",
   "execution_count": null,
   "metadata": {},
   "outputs": [],
   "source": [
    "from sklearn.metrics import mean_squared_error, mean_absolute_error\n",
    "from math import sqrt\n",
    "\n",
    "mse = mean_squared_error(Data.test[1][:,0], cnn_lstm_predicted)\n",
    "rmse = sqrt(mean_squared_error(Data.test[1][:,0], cnn_lstm_predicted))\n",
    "mae = mean_absolute_error(Data.test[1][:,0], cnn_lstm_predicted)\n",
    "rse_val = rse(Data.test[1][:,0], cnn_lstm_predicted)\n",
    "\n",
    "print(f'MSE: {mse}')\n",
    "print(f'RMSE: {rmse}')\n",
    "print(f'MAE: {mae}')\n",
    "print(f'RSE: {rse_val}')\n",
    "\n",
    "accuracy_stats['rmse']['cnn_lstm'] = rmse\n",
    "accuracy_stats['rse']['cnn_lstm'] = rse_val\n",
    "# accuracy_stats['corr']['mlp'] = corr\n",
    "# accuracy_stats['accuracy']['mlp'] = acc\n",
    "accuracy_stats['mae']['cnn_lstm'] = mae\n",
    "accuracy_stats['predicted']['cnn_lstm'] = cnn_lstm_predicted\n",
    "accuracy_stats['mse']['cnn_lstm'] = mse"
   ]
  },
  {
   "cell_type": "code",
   "execution_count": null,
   "metadata": {},
   "outputs": [],
   "source": []
  },
  {
   "cell_type": "code",
   "execution_count": null,
   "metadata": {},
   "outputs": [],
   "source": []
  },
  {
   "cell_type": "markdown",
   "metadata": {},
   "source": [
    "### Take 2"
   ]
  },
  {
   "cell_type": "code",
   "execution_count": null,
   "metadata": {},
   "outputs": [],
   "source": [
    "Data.train[0].shape"
   ]
  },
  {
   "cell_type": "code",
   "execution_count": null,
   "metadata": {},
   "outputs": [],
   "source": [
    "early_stopping = tf.keras.callbacks.EarlyStopping(monitor='val_loss',\n",
    "                                                patience=10,\n",
    "                                                mode='min')"
   ]
  },
  {
   "cell_type": "code",
   "execution_count": null,
   "metadata": {},
   "outputs": [],
   "source": [
    "from tensorflow.keras.models import Sequential\n",
    "from tensorflow.keras.models import Model\n",
    "from tensorflow.keras.layers import Dense, Flatten, Conv2D, LSTM, MaxPooling2D, Reshape, TimeDistributed, Input, Dropout, GRU"
   ]
  },
  {
   "cell_type": "code",
   "execution_count": null,
   "metadata": {},
   "outputs": [],
   "source": [
    "X = Input(shape = (10,3))\n",
    "\n",
    "\n",
    "#CNN\n",
    "C = Reshape((10, 3, 1))(X)\n",
    "\n",
    "# Apply a Conv2D that will transform it into data of dimensions (batchsize, time, 1, NumofFilters)\n",
    "C = Conv2D(filters=200, kernel_size=(1, 3), kernel_initializer='glorot_uniform')(C)\n",
    "C = Dropout(0.2)(C)\n",
    "\n",
    "# Adjust data dimensions by removing axis=2 which is always equal to 1\n",
    "c_shape = K.int_shape(C)\n",
    "C = Reshape((c_shape[1], c_shape[3]))(C)\n",
    "\n",
    "# Apply a GRU layer (with activation set to 'relu' as per the paper) and take the returned states as result\n",
    "_, R = GRU(200, activation=\"relu\", return_sequences = False, return_state = True)(C)\n",
    "R    = Dropout(0.2)(R)\n",
    "Y = Flatten()(R)\n",
    "Y = Dense(3)(Y)\n",
    "cnn_lstm_model2 = Model(inputs = X, outputs = Y)"
   ]
  },
  {
   "cell_type": "code",
   "execution_count": null,
   "metadata": {},
   "outputs": [],
   "source": [
    "cnn_lstm_model2.compile(loss=tf.losses.MeanSquaredError(),\n",
    "                       optimizer=tf.optimizers.Adam(),\n",
    "                       metrics=[tf_rse, tf_corr, tf.metrics.MeanAbsoluteError(), tf.metrics.MeanSquaredError(), tf.metrics.RootMeanSquaredError()])"
   ]
  },
  {
   "cell_type": "code",
   "execution_count": null,
   "metadata": {},
   "outputs": [],
   "source": [
    "cnn_lstm_model2.summary()"
   ]
  },
  {
   "cell_type": "code",
   "execution_count": null,
   "metadata": {},
   "outputs": [],
   "source": [
    "# tf.random.set_seed(123456)\n",
    "cnn_lstm_model2.fit(Data.train[0][:,:,:], Data.train[1][:,0], \n",
    "                   epochs=10, \n",
    "                   validation_data=(Data.valid[0][:,:,:], Data.valid[1]), \n",
    "                   callbacks=[early_stopping],\n",
    "                   shuffle=True)"
   ]
  },
  {
   "cell_type": "code",
   "execution_count": null,
   "metadata": {},
   "outputs": [],
   "source": [
    "cnn_lstm_model2.evaluate(Data.test[0][:,:,:], Data.test[1])"
   ]
  },
  {
   "cell_type": "code",
   "execution_count": null,
   "metadata": {},
   "outputs": [],
   "source": [
    "cnn_lstm_model2_predicted"
   ]
  },
  {
   "cell_type": "code",
   "execution_count": null,
   "metadata": {},
   "outputs": [],
   "source": [
    "cnn_lstm_model2_predicted = cnn_lstm_model2.predict(Data.test[0][:,:,:])\n",
    "\n",
    "np.save('predicted_results/cnn_lstm_predicted.npy', cnn_lstm_model2_predicted)\n",
    "np.savetxt('predicted_results/cnn_lstm_predicted.txt', cnn_lstm_model2_predicted)\n",
    "cnn_lstm_model.save_weights('./checkpoints/cnn_lstm_weights')"
   ]
  },
  {
   "cell_type": "code",
   "execution_count": null,
   "metadata": {},
   "outputs": [],
   "source": [
    "plt.plot(Data.test[1][0:100,0], label='actual')\n",
    "plt.plot(cnn_lstm_model2_predicted[0:100,0], label=\"predicted\")\n",
    "plt.legend(loc='best')\n",
    "plt.show()"
   ]
  },
  {
   "cell_type": "code",
   "execution_count": null,
   "metadata": {},
   "outputs": [],
   "source": [
    "from sklearn.metrics import mean_squared_error, mean_absolute_error\n",
    "from math import sqrt\n",
    "\n",
    "mse = mean_squared_error(Data.test[1][:,0], cnn_lstm_model2_predicted.flatten())\n",
    "rmse = sqrt(mean_squared_error(Data.test[1][:,0], cnn_lstm_model2_predicted.flatten()))\n",
    "mae = mean_absolute_error(Data.test[1][:,0], cnn_lstm_model2_predicted.flatten())\n",
    "rse_val = rse(Data.test[1][:,0], cnn_lstm_model2_predicted[:,0].flatten())\n",
    "\n",
    "print(f'MSE: {mse}')\n",
    "print(f'RMSE: {rmse}')\n",
    "print(f'MAE: {mae}')\n",
    "print(f'RSE: {rse_val}')\n",
    "\n",
    "accuracy_stats['rmse']['cnn_lstm2'] = rmse\n",
    "accuracy_stats['rse']['cnn_lstm2'] = rse_val\n",
    "# accuracy_stats['corr']['mlp'] = corr\n",
    "# accuracy_stats['accuracy']['mlp'] = acc\n",
    "accuracy_stats['mae']['cnn_lstm2'] = mae\n",
    "accuracy_stats['predicted']['cnn_lstm2'] = cnn_lstm_model2_predicted\n",
    "accuracy_stats['mse']['cnn_lstm2'] = mse"
   ]
  },
  {
   "cell_type": "code",
   "execution_count": null,
   "metadata": {},
   "outputs": [],
   "source": []
  },
  {
   "cell_type": "markdown",
   "metadata": {},
   "source": [
    "### LSTNET MODEL"
   ]
  },
  {
   "cell_type": "code",
   "execution_count": null,
   "metadata": {},
   "outputs": [],
   "source": [
    "from tensorflow.keras.models import Model, model_from_json\n",
    "\n",
    "custom_objects = {\n",
    "        'PreSkipTrans': PreSkipTrans,\n",
    "        'PostSkipTrans': PostSkipTrans,\n",
    "        'PreARTrans': PreARTrans,\n",
    "        'PostARTrans': PostARTrans\n",
    "        }\n",
    "\n",
    "\n",
    "def custom_loss(y_true, y_pred):\n",
    "    # print(\"CUSTOM LOSS BABBBY\")\n",
    "    # print(type(y_true))\n",
    "    # print(type(y_pred))\n",
    "    # print(y_true)\n",
    "    # print(y_true.shape)\n",
    "    # tf.print(y_true[:,0, sys.stdout)\n",
    "    return tf.keras.losses.mean_absolute_error(y_true[:,0], y_pred[:,0])\n",
    "\n",
    "file = 'models/model2.json'\n",
    "lstnet_model = None\n",
    "with open(file, \"r\") as json_file:\n",
    "  lstnet_model = model_from_json(json_file.read(), custom_objects=custom_objects)\n"
   ]
  },
  {
   "cell_type": "code",
   "execution_count": null,
   "metadata": {},
   "outputs": [],
   "source": [
    "lstnet_model.compile(loss=custom_loss,\n",
    "                       optimizer=tf.optimizers.Adam(),\n",
    "                       metrics=[single_rse, single_corr, tf_rse, tf_corr, tf.metrics.MeanAbsoluteError(), tf.metrics.MeanSquaredError(), tf.metrics.RootMeanSquaredError()])"
   ]
  },
  {
   "cell_type": "code",
   "execution_count": null,
   "metadata": {},
   "outputs": [],
   "source": [
    "lstnet_model.fit(Data.train[0][:,:,:], Data.train[1][:,0], \n",
    "                   epochs=20, \n",
    "                   validation_data=(Data.valid[0][:,:,:], Data.valid[1][:,0]), \n",
    "                   callbacks=[early_stopping],\n",
    "                   shuffle=True,\n",
    "                   batch_size=91)"
   ]
  },
  {
   "cell_type": "code",
   "execution_count": null,
   "metadata": {},
   "outputs": [],
   "source": [
    "lstnet_model.summary()"
   ]
  },
  {
   "cell_type": "code",
   "execution_count": null,
   "metadata": {},
   "outputs": [],
   "source": [
    "lstnet_model.evaluate(Data.test[0], Data.test[1])"
   ]
  },
  {
   "cell_type": "code",
   "execution_count": null,
   "metadata": {},
   "outputs": [],
   "source": [
    "lstnet_predicted = lstnet_model.predict(Data.test[0])\n",
    "\n",
    "np.save('predicted_results/lstnet_predicted.npy', lstnet_predicted)\n",
    "np.savetxt('predicted_results/lstnet_predicted.txt', lstnet_predicted)\n",
    "lstnet_model.save_weights('./checkpoints/lstnet_weights')"
   ]
  },
  {
   "cell_type": "code",
   "execution_count": null,
   "metadata": {},
   "outputs": [],
   "source": [
    "plt.plot(Data.test[1][0:100,0], label='actual')\n",
    "plt.plot(lstnet_predicted[0:100, 0], label=\"predicted\")\n",
    "plt.legend(loc='best')\n",
    "plt.show()"
   ]
  },
  {
   "cell_type": "code",
   "execution_count": null,
   "metadata": {},
   "outputs": [],
   "source": [
    "from sklearn.metrics import mean_squared_error, mean_absolute_error\n",
    "from math import sqrt\n",
    "print(f'MSE: {mean_squared_error(Data.test[1][:,0], lstnet_predicted[:,0])}')\n",
    "print(f'RMSE: {sqrt(mean_squared_error(Data.test[1][:,0], lstnet_predicted[:,0]))}')\n",
    "print(f'MAE: {mean_absolute_error(Data.test[1][:,0], lstnet_predicted[:,0])}')\n",
    "print(f'RSE: {rse(Data.test[1][:,0], lstnet_predicted[:,0])}')"
   ]
  },
  {
   "cell_type": "code",
   "execution_count": null,
   "metadata": {},
   "outputs": [],
   "source": [
    "Data.test[1][:,0]"
   ]
  },
  {
   "cell_type": "code",
   "execution_count": null,
   "metadata": {},
   "outputs": [],
   "source": [
    "lstnet_predicted[:,0]"
   ]
  },
  {
   "cell_type": "code",
   "execution_count": null,
   "metadata": {},
   "outputs": [],
   "source": [
    "def mean_absolute_percentage_error(y_true, y_pred): \n",
    "  return np.mean(np.abs(y_true - y_pred) / np.abs(y_true)) * 100"
   ]
  },
  {
   "cell_type": "code",
   "execution_count": null,
   "metadata": {},
   "outputs": [],
   "source": [
    "mean_absolute_percentage_error(Data.test[1][:,0]*Data.normalize_std[0] + Data.normalize_mean[0], lstnet_predicted[:,0]*Data.normalize_std[0] + Data.normalize_mean[0])"
   ]
  },
  {
   "cell_type": "markdown",
   "metadata": {},
   "source": [
    "# Comparison between Different Methods"
   ]
  },
  {
   "cell_type": "code",
   "execution_count": null,
   "metadata": {},
   "outputs": [],
   "source": [
    "mlp_predicted = np.load('predicted_results/mlp_predicted.npy')*Data.normalize_std[0] + Data.normalize_mean[0]\n",
    "lstm_predicted = np.load('predicted_results/lstm_predicted.npy')*Data.normalize_std[0] + Data.normalize_mean[0]\n",
    "gru_predicted = np.load('predicted_results/gru_predicted.npy')*Data.normalize_std[0] + Data.normalize_mean[0]\n",
    "cnn_predicted = np.load('predicted_results/cnn_predicted.npy')*Data.normalize_std[0] + Data.normalize_mean[0]\n",
    "cnn_lstm_predicted = np.load('predicted_results/cnn_lstm_predicted.npy')*Data.normalize_std[0] + Data.normalize_mean[0]\n",
    "lstnet_predicted = np.load('predicted_results/lstnet_predicted.npy')*Data.normalize_std[0] + Data.normalize_mean[0]\n",
    "\n",
    "data_true = Data.test[1][:,0]*Data.normalize_std[0] + Data.normalize_mean[0]"
   ]
  },
  {
   "cell_type": "code",
   "execution_count": null,
   "metadata": {},
   "outputs": [],
   "source": [
    "data_true.shape"
   ]
  },
  {
   "cell_type": "code",
   "execution_count": null,
   "metadata": {},
   "outputs": [],
   "source": [
    "from cycler import cycler\n",
    "\n",
    "# Create cycler object. Use any styling from above you please\n",
    "monochrome = (cycler('color', ['k']) * cycler('linestyle', ['-', '--', ':']) * cycler('marker', ['^',',', '.']))\n",
    "\n",
    "# Print examples of output from cycler object. \n",
    "# A cycler object, when called, returns a `iter.cycle` object that iterates over items indefinitely\n",
    "\n",
    "default_cycler = (cycler(color=['black', 'r', 'b', 'y', 'teal', 'green', 'purple']) +\n",
    "                  cycler(linestyle=['-', '--', ':', '-.', '-.', '-', '--']))"
   ]
  },
  {
   "cell_type": "code",
   "execution_count": null,
   "metadata": {},
   "outputs": [],
   "source": [
    "from matplotlib import cm\n",
    "from matplotlib.colors import ListedColormap, LinearSegmentedColormap\n",
    "\n",
    "cmap_1 = ListedColormap([\"darkorange\", \"gold\", \"lawngreen\", \"lightseagreen\"])"
   ]
  },
  {
   "cell_type": "code",
   "execution_count": null,
   "metadata": {},
   "outputs": [],
   "source": [
    "start_time = 150\n",
    "end_time = 200\n",
    "plt.rcParams[\"figure.figsize\"] = (10,7)\n",
    "# plt.rc('axes', prop_cycle=default_cycler)\n",
    "# plt.style.use('grayscale')\n",
    "plt.plot(data_true[start_time:end_time], label='actual')\n",
    "plt.plot(mlp_predicted[start_time:end_time, 0], label=\"mlp\")\n",
    "plt.plot(lstm_predicted[start_time:end_time], label=\"lstm\")\n",
    "plt.plot(gru_predicted[start_time:end_time], label=\"gru\")\n",
    "plt.plot(cnn_predicted[start_time:end_time], label=\"cnn\")\n",
    "plt.plot(cnn_lstm_predicted[start_time:end_time, 0], label=\"cnn+gru\")\n",
    "plt.plot(lstnet_predicted[start_time:end_time, 0], label=\"lstnet\")\n",
    "plt.ylabel('Throughput (Mbits/sec)')\n",
    "plt.xlabel('Day')\n",
    "plt.legend(loc='best')\n",
    "plt.show()"
   ]
  },
  {
   "cell_type": "markdown",
   "metadata": {},
   "source": [
    "### RMSE"
   ]
  },
  {
   "cell_type": "code",
   "execution_count": null,
   "metadata": {},
   "outputs": [],
   "source": [
    "from sklearn.metrics import mean_squared_error\n",
    "from math import sqrt"
   ]
  },
  {
   "cell_type": "code",
   "execution_count": null,
   "metadata": {},
   "outputs": [],
   "source": [
    "mlp_rmse = sqrt(mean_squared_error(data_true, mlp_predicted[:, 0]))\n",
    "mlp_rmse"
   ]
  },
  {
   "cell_type": "code",
   "execution_count": null,
   "metadata": {},
   "outputs": [],
   "source": [
    "lstm_rmse = sqrt(mean_squared_error(data_true, lstm_predicted))\n",
    "lstm_rmse"
   ]
  },
  {
   "cell_type": "code",
   "execution_count": null,
   "metadata": {},
   "outputs": [],
   "source": [
    "gru_rmse = sqrt(mean_squared_error(data_true, gru_predicted))\n",
    "gru_rmse"
   ]
  },
  {
   "cell_type": "code",
   "execution_count": null,
   "metadata": {},
   "outputs": [],
   "source": [
    "cnn_rmse = sqrt(mean_squared_error(data_true, cnn_predicted))\n",
    "cnn_rmse"
   ]
  },
  {
   "cell_type": "code",
   "execution_count": null,
   "metadata": {},
   "outputs": [],
   "source": [
    "cnn_lstm_rmse = sqrt(mean_squared_error(data_true, cnn_lstm_predicted[:, 0]))\n",
    "cnn_lstm_rmse"
   ]
  },
  {
   "cell_type": "code",
   "execution_count": null,
   "metadata": {},
   "outputs": [],
   "source": [
    "lstnet_rmse = sqrt(mean_squared_error(data_true, lstnet_predicted[:, 0]))\n",
    "lstnet_rmse"
   ]
  },
  {
   "cell_type": "code",
   "execution_count": null,
   "metadata": {},
   "outputs": [],
   "source": [
    "fig = plt.figure()\n",
    "ax=fig.add_axes([0,0,1,1])\n",
    "ax.bar(x=['ARIMA', 'MLP', 'LSTM', 'GRU', 'CNN', 'CNN+LSTM', 'LSTNet'], \n",
    "        height=[0.45, mlp_rmse, lstm_rmse, gru_rmse, cnn_rmse, cnn_lstm_rmse, lstnet_rmse])\n",
    "ax.set_xlabel('Model')\n",
    "\n",
    "ax.set_ylabel('Root Mean Squared Error (RMSE)')"
   ]
  },
  {
   "cell_type": "markdown",
   "metadata": {},
   "source": [
    "### MAPE"
   ]
  },
  {
   "cell_type": "code",
   "execution_count": null,
   "metadata": {},
   "outputs": [],
   "source": [
    "def mean_absolute_percentage_error(y_true, y_pred): \n",
    "  return np.mean(np.abs(y_true - y_pred) / np.abs(y_true)) * 100"
   ]
  },
  {
   "cell_type": "code",
   "execution_count": null,
   "metadata": {},
   "outputs": [],
   "source": [
    "mlp_mape = mean_absolute_percentage_error(data_true, mlp_predicted[:, 0])\n",
    "mlp_mape"
   ]
  },
  {
   "cell_type": "code",
   "execution_count": null,
   "metadata": {},
   "outputs": [],
   "source": [
    "lstm_mape = mean_absolute_percentage_error(data_true, lstm_predicted)\n",
    "lstm_mape"
   ]
  },
  {
   "cell_type": "code",
   "execution_count": null,
   "metadata": {},
   "outputs": [],
   "source": [
    "gru_mape = mean_absolute_percentage_error(data_true, gru_predicted)\n",
    "gru_mape"
   ]
  },
  {
   "cell_type": "code",
   "execution_count": null,
   "metadata": {},
   "outputs": [],
   "source": [
    "cnn_mape = mean_absolute_percentage_error(data_true, cnn_predicted)\n",
    "cnn_mape"
   ]
  },
  {
   "cell_type": "code",
   "execution_count": null,
   "metadata": {},
   "outputs": [],
   "source": [
    "cnn_lstm_mape = mean_absolute_percentage_error(data_true, cnn_lstm_predicted[:, 0])\n",
    "cnn_lstm_mape"
   ]
  },
  {
   "cell_type": "code",
   "execution_count": null,
   "metadata": {},
   "outputs": [],
   "source": [
    "lstnet_mape = mean_absolute_percentage_error(data_true, lstnet_predicted[:, 0])\n",
    "lstnet_mape"
   ]
  },
  {
   "cell_type": "code",
   "execution_count": null,
   "metadata": {},
   "outputs": [],
   "source": [
    "fig = plt.figure()\n",
    "ax=fig.add_axes([0,0,1,1])\n",
    "ax.bar(x=['ARIMA', 'MLP', 'LSTM', 'GRU', 'CNN', 'CNN+LSTM', 'LSTNet'], \n",
    "        height=[79, mlp_mape, lstm_mape, gru_mape, cnn_mape, cnn_lstm_mape, lstnet_mape])\n",
    "ax.set_xlabel('Model')\n",
    "# ax.set_ylim(0.0, 0.9)\n",
    "ax.set_ylabel('Mean Absolute Percentage Error (MAPE) %')"
   ]
  },
  {
   "cell_type": "code",
   "execution_count": null,
   "metadata": {},
   "outputs": [],
   "source": []
  },
  {
   "cell_type": "markdown",
   "metadata": {},
   "source": [
    "### CORR"
   ]
  },
  {
   "cell_type": "code",
   "execution_count": null,
   "metadata": {},
   "outputs": [],
   "source": [
    "mlp_corr = corr(data_true, mlp_predicted[:, 0])\n",
    "mlp_corr"
   ]
  },
  {
   "cell_type": "code",
   "execution_count": null,
   "metadata": {},
   "outputs": [],
   "source": [
    "lstm_corr = corr(data_true, lstm_predicted)\n",
    "lstm_corr"
   ]
  },
  {
   "cell_type": "code",
   "execution_count": null,
   "metadata": {},
   "outputs": [],
   "source": [
    "gru_corr = corr(data_true, gru_predicted)\n",
    "gru_corr"
   ]
  },
  {
   "cell_type": "code",
   "execution_count": null,
   "metadata": {},
   "outputs": [],
   "source": [
    "cnn_corr = corr(data_true, cnn_predicted)\n",
    "cnn_corr"
   ]
  },
  {
   "cell_type": "code",
   "execution_count": null,
   "metadata": {},
   "outputs": [],
   "source": [
    "cnn_lstm_corr = corr(data_true, cnn_lstm_predicted[:, 0])\n",
    "cnn_lstm_corr"
   ]
  },
  {
   "cell_type": "code",
   "execution_count": null,
   "metadata": {},
   "outputs": [],
   "source": [
    "lstnet_corr = corr(data_true, lstnet_predicted[:, 0])\n",
    "lstnet_corr"
   ]
  },
  {
   "cell_type": "code",
   "execution_count": null,
   "metadata": {},
   "outputs": [],
   "source": [
    "import scipy\n",
    "scipy.stats.pearsonr(data_true, lstnet_predicted[:, 0])"
   ]
  },
  {
   "cell_type": "code",
   "execution_count": null,
   "metadata": {},
   "outputs": [],
   "source": []
  },
  {
   "cell_type": "code",
   "execution_count": null,
   "metadata": {},
   "outputs": [],
   "source": [
    "fig = plt.figure()\n",
    "ax=fig.add_axes([0,0,1,1])\n",
    "ax.bar(x=['ARIMA', 'MLP', 'LSTM', 'GRU', 'CNN', 'CNN+LSTM', 'LSTNet'], \n",
    "        height=[0.88, mlp_corr, lstm_corr, gru_corr, cnn_corr, cnn_lstm_corr, lstnet_corr])\n",
    "ax.set_xlabel('Model')\n",
    "ax.set_ylim(0.85, 0.95)\n",
    "ax.set_ylabel('Mean Absolute Percentage Error (MAPE) %')"
   ]
  },
  {
   "cell_type": "code",
   "execution_count": null,
   "metadata": {},
   "outputs": [],
   "source": []
  },
  {
   "cell_type": "code",
   "execution_count": null,
   "metadata": {},
   "outputs": [],
   "source": []
  },
  {
   "cell_type": "markdown",
   "metadata": {},
   "source": [
    "### r2"
   ]
  },
  {
   "cell_type": "code",
   "execution_count": null,
   "metadata": {},
   "outputs": [],
   "source": [
    "from sklearn.metrics import r2_score"
   ]
  },
  {
   "cell_type": "code",
   "execution_count": null,
   "metadata": {},
   "outputs": [],
   "source": [
    "mlp_r2 = r2_score(data_true, mlp_predicted[:, 0])\n",
    "lstm_r2 = r2_score(data_true, lstm_predicted)\n",
    "gru_r2 = r2_score(data_true, gru_predicted)\n",
    "cnn_r2 = r2_score(data_true, cnn_predicted)\n",
    "cnn_lstm_r2 = r2_score(data_true, cnn_lstm_predicted[:, 0])\n",
    "lstnet_r2 = r2_score(data_true, lstnet_predicted[:, 0])\n"
   ]
  },
  {
   "cell_type": "code",
   "execution_count": null,
   "metadata": {},
   "outputs": [],
   "source": [
    "print(f'mlp r2:     {mlp_r2}')\n",
    "print(f'lstm r2:    {lstm_r2}')\n",
    "print(f'gru r2:     {gru_r2}')\n",
    "print(f'cnn r2:     {cnn_r2}')\n",
    "print(f'cnn+gru r2: {cnn_lstm_r2}')\n",
    "print(f'lstnet r2:  {lstnet_r2}')\n"
   ]
  },
  {
   "cell_type": "markdown",
   "metadata": {},
   "source": [
    "### RRSE"
   ]
  },
  {
   "cell_type": "code",
   "execution_count": null,
   "metadata": {},
   "outputs": [],
   "source": [
    "mlp_rrse = rse(data_true, mlp_predicted[:, 0])\n",
    "mlp_rrse"
   ]
  },
  {
   "cell_type": "code",
   "execution_count": null,
   "metadata": {},
   "outputs": [],
   "source": [
    "lstm_rrse = rse(data_true, lstm_predicted)\n",
    "lstm_rrse"
   ]
  },
  {
   "cell_type": "code",
   "execution_count": null,
   "metadata": {},
   "outputs": [],
   "source": [
    "gru_rrse = rse(data_true, gru_predicted)\n",
    "gru_rrse"
   ]
  },
  {
   "cell_type": "code",
   "execution_count": null,
   "metadata": {},
   "outputs": [],
   "source": [
    "cnn_rrse = rse(data_true, cnn_predicted)\n",
    "cnn_rrse"
   ]
  },
  {
   "cell_type": "code",
   "execution_count": null,
   "metadata": {},
   "outputs": [],
   "source": [
    "cnn_lstm_rrse = rse(data_true, cnn_lstm_predicted[:, 0].flatten())\n",
    "cnn_lstm_rrse"
   ]
  },
  {
   "cell_type": "code",
   "execution_count": null,
   "metadata": {},
   "outputs": [],
   "source": [
    "lstnet_rrse = rse(data_true, lstnet_predicted[:, 0].flatten())\n",
    "lstnet_rrse"
   ]
  },
  {
   "cell_type": "code",
   "execution_count": null,
   "metadata": {},
   "outputs": [],
   "source": [
    "fig = plt.figure()\n",
    "ax=fig.add_axes([0,0,1,1])\n",
    "ax.bar(x=['ARIMA', 'MLP', 'LSTM', 'GRU', 'CNN', 'CNN+LSTM', 'LSTNet'], \n",
    "        height=[0.79, mlp_rrse,lstm_rrse,gru_rrse,cnn_rrse,cnn_lstm_rrse,lstnet_rrse])\n",
    "ax.set_xlabel('Model')\n",
    "# ax.set_ylim(0.0, 0.9)\n",
    "ax.set_ylabel('Root Relative Squared Error (RRSE)')"
   ]
  },
  {
   "cell_type": "code",
   "execution_count": null,
   "metadata": {},
   "outputs": [],
   "source": []
  },
  {
   "cell_type": "code",
   "execution_count": null,
   "metadata": {},
   "outputs": [],
   "source": []
  },
  {
   "cell_type": "markdown",
   "metadata": {},
   "source": [
    "### MAE"
   ]
  },
  {
   "cell_type": "code",
   "execution_count": null,
   "metadata": {},
   "outputs": [],
   "source": [
    "from sklearn.metrics import mean_absolute_error"
   ]
  },
  {
   "cell_type": "code",
   "execution_count": null,
   "metadata": {},
   "outputs": [],
   "source": [
    "mlp_mae = mean_absolute_error(data_true, mlp_predicted[:, 0])\n",
    "mlp_mae"
   ]
  },
  {
   "cell_type": "code",
   "execution_count": null,
   "metadata": {},
   "outputs": [],
   "source": [
    "lstm_mae = mean_absolute_error(data_true, lstm_predicted)\n",
    "lstm_mae"
   ]
  },
  {
   "cell_type": "code",
   "execution_count": null,
   "metadata": {},
   "outputs": [],
   "source": [
    "gru_mae = mean_absolute_error(data_true, gru_predicted)\n",
    "gru_mae"
   ]
  },
  {
   "cell_type": "code",
   "execution_count": null,
   "metadata": {},
   "outputs": [],
   "source": [
    "cnn_mae = mean_absolute_error(data_true, cnn_predicted)\n",
    "cnn_mae"
   ]
  },
  {
   "cell_type": "code",
   "execution_count": null,
   "metadata": {},
   "outputs": [],
   "source": [
    "cnn_lstm_mae = mean_absolute_error(data_true, cnn_lstm_predicted[:, 0])\n",
    "cnn_lstm_mae"
   ]
  },
  {
   "cell_type": "code",
   "execution_count": null,
   "metadata": {},
   "outputs": [],
   "source": [
    "lstnet_mae = mean_absolute_error(data_true, lstnet_predicted[:, 0])\n",
    "lstnet_mae"
   ]
  },
  {
   "cell_type": "code",
   "execution_count": null,
   "metadata": {},
   "outputs": [],
   "source": [
    "fig = plt.figure()\n",
    "ax=fig.add_axes([0,0,1,1])\n",
    "ax.bar(x=['ARIMA', 'MLP', 'LSTM', 'GRU', 'CNN', 'CNN+LSTM', 'LSTNet'], \n",
    "        height=[79, mlp_mae, lstm_mae, gru_mae, cnn_mae, cnn_lstm_mae, lstnet_mae])\n",
    "ax.set_xlabel('Model')\n",
    "# ax.set_ylim(0.0, 0.9)\n",
    "ax.set_ylabel('Mean Absolute Percentage Error (MAPE) %')"
   ]
  },
  {
   "cell_type": "markdown",
   "metadata": {},
   "source": [
    "### RMSRE (root mean square relative error)"
   ]
  },
  {
   "cell_type": "code",
   "execution_count": null,
   "metadata": {},
   "outputs": [],
   "source": [
    "from sklearn.metrics import mean_absolute_error"
   ]
  },
  {
   "cell_type": "code",
   "execution_count": null,
   "metadata": {},
   "outputs": [],
   "source": [
    "mlp_mae = mean_absolute_error(data_true, mlp_predicted[:, 0])\n",
    "mlp_mae"
   ]
  },
  {
   "cell_type": "code",
   "execution_count": null,
   "metadata": {},
   "outputs": [],
   "source": [
    "lstm_mae = mean_absolute_error(data_true, lstm_predicted)\n",
    "lstm_mae"
   ]
  },
  {
   "cell_type": "code",
   "execution_count": null,
   "metadata": {},
   "outputs": [],
   "source": [
    "gru_mae = mean_absolute_error(data_true, gru_predicted)\n",
    "gru_mae"
   ]
  },
  {
   "cell_type": "code",
   "execution_count": null,
   "metadata": {},
   "outputs": [],
   "source": [
    "cnn_mae = mean_absolute_error(data_true, cnn_predicted)\n",
    "cnn_mae"
   ]
  },
  {
   "cell_type": "code",
   "execution_count": null,
   "metadata": {},
   "outputs": [],
   "source": [
    "cnn_lstm_mae = mean_absolute_error(data_true, cnn_lstm_predicted[:, 0])\n",
    "cnn_lstm_mae"
   ]
  },
  {
   "cell_type": "code",
   "execution_count": null,
   "metadata": {},
   "outputs": [],
   "source": [
    "lstnet_mae = mean_absolute_error(data_true, lstnet_predicted[:, 0])\n",
    "lstnet_mae"
   ]
  },
  {
   "cell_type": "code",
   "execution_count": null,
   "metadata": {},
   "outputs": [],
   "source": [
    "fig = plt.figure()\n",
    "ax=fig.add_axes([0,0,1,1])\n",
    "ax.bar(x=['ARIMA', 'MLP', 'LSTM', 'GRU', 'CNN', 'CNN+LSTM', 'LSTNet'], \n",
    "        height=[79, mlp_mae, lstm_mae, gru_mae, cnn_mae, cnn_lstm_mae, lstnet_mae])\n",
    "ax.set_xlabel('Model')\n",
    "# ax.set_ylim(0.0, 0.9)\n",
    "ax.set_ylabel('Mean Absolute Percentage Error (MAPE) %')"
   ]
  },
  {
   "cell_type": "markdown",
   "metadata": {},
   "source": [
    "### CDF of Relative Error"
   ]
  },
  {
   "cell_type": "code",
   "execution_count": null,
   "metadata": {},
   "outputs": [],
   "source": [
    "mlp_relative_error = (data_true - mlp_predicted[:, 0]) / data_true\n",
    "lstm_relative_error = (data_true - lstm_predicted) / data_true"
   ]
  },
  {
   "cell_type": "code",
   "execution_count": null,
   "metadata": {},
   "outputs": [],
   "source": [
    "mlp_residual_error = (data_true - mlp_predicted[:, 0])"
   ]
  },
  {
   "cell_type": "code",
   "execution_count": null,
   "metadata": {},
   "outputs": [],
   "source": [
    "mlp_relative_error"
   ]
  },
  {
   "cell_type": "code",
   "execution_count": null,
   "metadata": {},
   "outputs": [],
   "source": [
    "plt.plot(mlp_relative_error)"
   ]
  },
  {
   "cell_type": "code",
   "execution_count": null,
   "metadata": {},
   "outputs": [],
   "source": [
    "num_bins = 40\n",
    "counts, bin_edges = np.histogram (abs(mlp_relative_error), bins=num_bins, normed=True)\n",
    "cdf = np.cumsum (counts)\n",
    "plt.plot (bin_edges[1:], cdf/cdf[-1])\n",
    "counts, bin_edges = np.histogram (abs(lstm_relative_error), bins=num_bins, normed=True)\n",
    "cdf = np.cumsum (counts)\n",
    "plt.plot (bin_edges[1:], cdf/cdf[-1])"
   ]
  },
  {
   "cell_type": "markdown",
   "metadata": {},
   "source": [
    "## ARIMA"
   ]
  },
  {
   "cell_type": "code",
   "execution_count": null,
   "metadata": {},
   "outputs": [],
   "source": [
    "arima_actual = np.load('predicted_results/arima_data_actual_multivar_1.npy')\n",
    "arima_predicted = np.load('predicted_results/arima_data_predictions_multivar_1.npy')"
   ]
  },
  {
   "cell_type": "code",
   "execution_count": null,
   "metadata": {},
   "outputs": [],
   "source": [
    "arima_actual.shape"
   ]
  },
  {
   "cell_type": "code",
   "execution_count": null,
   "metadata": {},
   "outputs": [],
   "source": [
    "arima_predicted.shape"
   ]
  },
  {
   "cell_type": "code",
   "execution_count": null,
   "metadata": {},
   "outputs": [],
   "source": [
    "plt.plot(arima_actual[0:300])\n",
    "plt.plot(arima_predicted[0:300])"
   ]
  },
  {
   "cell_type": "code",
   "execution_count": null,
   "metadata": {},
   "outputs": [],
   "source": [
    "arima_rrse = rse(arima_actual, arima_predicted)\n",
    "arima_rrse"
   ]
  },
  {
   "cell_type": "code",
   "execution_count": null,
   "metadata": {},
   "outputs": [],
   "source": [
    "from sklearn.metrics import mean_absolute_error\n",
    "arima_mae = mean_absolute_error(arima_actual, arima_predicted)\n",
    "arima_mae"
   ]
  },
  {
   "cell_type": "code",
   "execution_count": null,
   "metadata": {},
   "outputs": [],
   "source": [
    "def mean_absolute_percentage_error(y_true, y_pred): \n",
    "  return np.mean(np.abs(y_true - y_pred) / np.abs(y_true)) * 100\n",
    "\n",
    "arima_mape = mean_absolute_percentage_error(arima_actual, arima_predicted)\n",
    "arima_mape"
   ]
  },
  {
   "cell_type": "code",
   "execution_count": null,
   "metadata": {},
   "outputs": [],
   "source": [
    "from sklearn.metrics import mean_squared_error\n",
    "from math import sqrt\n",
    "\n",
    "arima_rmse = sqrt(mean_squared_error(arima_actual, arima_predicted))\n",
    "arima_rmse"
   ]
  },
  {
   "cell_type": "code",
   "execution_count": null,
   "metadata": {},
   "outputs": [],
   "source": [
    "arima_corr = corr(arima_actual, arima_predicted)\n",
    "arima_corr"
   ]
  },
  {
   "cell_type": "markdown",
   "metadata": {},
   "source": [
    "# Prediction for all models on a single route (from test dataset)"
   ]
  },
  {
   "cell_type": "code",
   "execution_count": null,
   "metadata": {},
   "outputs": [],
   "source": [
    "test_sample = np.load('numpy_group_test_data/1_stream_test_sample_group_95.npy')\n",
    "test_target = np.load('numpy_group_test_data/1_stream_test_target_group_95.npy')\n",
    "\n",
    "normalize_mean = 9726.925995055048\n",
    "normalize_std  = 6670.752950995383\n"
   ]
  },
  {
   "cell_type": "code",
   "execution_count": null,
   "metadata": {},
   "outputs": [],
   "source": [
    "test_target[:,0]"
   ]
  },
  {
   "cell_type": "code",
   "execution_count": null,
   "metadata": {},
   "outputs": [],
   "source": []
  },
  {
   "cell_type": "code",
   "execution_count": null,
   "metadata": {},
   "outputs": [],
   "source": [
    "import statsmodels.api as sm \n",
    "\n",
    "arma_mod = sm.tsa.ARIMA(test_target[:,0], order=(8,0,8))\n",
    "arma_res = arma_mod.fit(trend='nc', disp=-1)\n",
    "arma_predictions = arma_res.predict()"
   ]
  },
  {
   "cell_type": "code",
   "execution_count": null,
   "metadata": {},
   "outputs": [],
   "source": [
    "arma_predictions"
   ]
  },
  {
   "cell_type": "markdown",
   "metadata": {},
   "source": [
    "### Load weights for models"
   ]
  },
  {
   "cell_type": "code",
   "execution_count": null,
   "metadata": {},
   "outputs": [],
   "source": [
    "# Create a new model instance\n",
    "\n",
    "# Restore the weights\n",
    "linear.load_weights('./checkpoints/linear_weights')\n"
   ]
  },
  {
   "cell_type": "code",
   "execution_count": null,
   "metadata": {},
   "outputs": [],
   "source": [
    "linear_test_predict = linear.predict(test_sample)\n",
    "lstm_test_predict = lstm_model.predict(test_sample)\n",
    "gru_test_predict = gru_model.predict(test_sample)\n",
    "cnn_test_predict = cnn_model.predict(test_sample)\n",
    "cnn_lstm_test_predict = cnn_lstm_model.predict(test_sample)\n",
    "lstnet_test_predict = lstnet_model.predict(test_sample)"
   ]
  },
  {
   "cell_type": "code",
   "execution_count": null,
   "metadata": {},
   "outputs": [],
   "source": [
    "plt.rcParams[\"figure.figsize\"] = (10,7)\n",
    "plt.plot(test_target[1:,0] * normalize_std + normalize_mean, label='actual')\n",
    "plt.plot(arma_predictions[1:] * normalize_std + normalize_mean, label='arima')\n",
    "plt.plot(linear_test_predict[1:] * normalize_std + normalize_mean, label='mlp')\n",
    "plt.plot(lstm_test_predict[1:] * normalize_std + normalize_mean, label='lstm')\n",
    "plt.plot(gru_test_predict[1:] * normalize_std + normalize_mean, label='gru')\n",
    "plt.plot(cnn_test_predict[1:] * normalize_std + normalize_mean, label='cnn')\n",
    "plt.plot(cnn_lstm_test_predict[1:,0] * normalize_std + normalize_mean, label='cnn+gru')\n",
    "plt.plot(lstnet_test_predict[1:,0] * normalize_std + normalize_mean, label='lstnet')\n",
    "plt.ylabel('Throughput (Mbits/sec)')\n",
    "plt.xlabel('Day')\n",
    "plt.legend(loc='best')"
   ]
  },
  {
   "cell_type": "code",
   "execution_count": null,
   "metadata": {},
   "outputs": [],
   "source": [
    "mean_absolute_percentage_error(test_target[1:,0],)"
   ]
  },
  {
   "cell_type": "code",
   "execution_count": null,
   "metadata": {},
   "outputs": [],
   "source": []
  }
 ],
 "metadata": {
  "kernelspec": {
   "display_name": "Python 3",
   "language": "python",
   "name": "python3"
  },
  "language_info": {
   "codemirror_mode": {
    "name": "ipython",
    "version": 3
   },
   "file_extension": ".py",
   "mimetype": "text/x-python",
   "name": "python",
   "nbconvert_exporter": "python",
   "pygments_lexer": "ipython3",
   "version": "3.8.8"
  }
 },
 "nbformat": 4,
 "nbformat_minor": 4
}
