{
 "cells": [
  {
   "cell_type": "code",
   "execution_count": 6,
   "id": "b7bb8476-cc06-4eb5-9892-597ec6c8f110",
   "metadata": {},
   "outputs": [],
   "source": [
    "import numpy as np\n",
    "import pandas as pd\n",
    "import matplotlib.pyplot as plt\n",
    "from datetime import datetime\n",
    "import pandas_data_util\n",
    "import tensorflow as tf"
   ]
  },
  {
   "cell_type": "code",
   "execution_count": 7,
   "id": "6ba76def-ba08-4065-9df1-f5ee302b70f2",
   "metadata": {},
   "outputs": [
    {
     "name": "stderr",
     "output_type": "stream",
     "text": [
      "/home/derek/projects/ml/tf_env/lib/python3.8/site-packages/IPython/core/interactiveshell.py:3361: DtypeWarning: Columns (0,1,2,3,4,5,6,7,8,9,10,11,12,14,20,45,58,59,82,83,84) have mixed types.Specify dtype option on import or set low_memory=False.\n",
      "  if (await self.run_code(code, result,  async_=asy)):\n"
     ]
    }
   ],
   "source": [
    "filename = 'data/bq-results-20211105-102236-1pg8as4q8dgo.csv'\n",
    "train_percent=0.6\n",
    "valid_percent=0.2\n",
    "normalize=0\n",
    "horizon=0\n",
    "window=5\n",
    "Data = pandas_data_util.DataUtil(filename,\n",
    "                train_percent,\n",
    "                valid_percent,\n",
    "                horizon,\n",
    "                window,\n",
    "                normalize)"
   ]
  },
  {
   "cell_type": "code",
   "execution_count": 8,
   "id": "ce5e0668-42e7-41be-a59e-d3939e3c3d90",
   "metadata": {},
   "outputs": [
    {
     "data": {
      "text/plain": [
       "array([[[Timestamp('2021-08-03 23:30:18.996356+0000', tz='UTC'),\n",
       "         0.08252671512388611, -0.7730977866761316, ..., 1.0, 0.0, 'bbr'],\n",
       "        [Timestamp('2021-08-04 19:42:12.895446+0000', tz='UTC'),\n",
       "         0.03454523416826806, -0.7716885806849644, ..., 1.0, 0.0, 'bbr'],\n",
       "        [Timestamp('2021-08-05 20:28:10.105184+0000', tz='UTC'),\n",
       "         -0.04741356344491683, -0.7673525622506039, ..., 1.0, 0.0,\n",
       "         'bbr'],\n",
       "        [Timestamp('2021-08-06 21:28:02.679139+0000', tz='UTC'),\n",
       "         0.0685225508258349, -0.7721221825284005, ..., 1.0, 0.0, 'bbr'],\n",
       "        [Timestamp('2021-08-07 22:42:00.336785+0000', tz='UTC'),\n",
       "         0.07632815059851918, -0.7713633793023874, ..., 1.0, 0.0, 'bbr']],\n",
       "\n",
       "       [[Timestamp('2021-08-04 19:42:12.895446+0000', tz='UTC'),\n",
       "         0.03454523416826806, -0.7716885806849644, ..., 1.0, 0.0, 'bbr'],\n",
       "        [Timestamp('2021-08-05 20:28:10.105184+0000', tz='UTC'),\n",
       "         -0.04741356344491683, -0.7673525622506039, ..., 1.0, 0.0,\n",
       "         'bbr'],\n",
       "        [Timestamp('2021-08-06 21:28:02.679139+0000', tz='UTC'),\n",
       "         0.0685225508258349, -0.7721221825284005, ..., 1.0, 0.0, 'bbr'],\n",
       "        [Timestamp('2021-08-07 22:42:00.336785+0000', tz='UTC'),\n",
       "         0.07632815059851918, -0.7713633793023874, ..., 1.0, 0.0, 'bbr'],\n",
       "        [Timestamp('2021-08-08 23:41:54.458480+0000', tz='UTC'),\n",
       "         -0.09792038550346213, -0.7728809857544136, ..., 1.0, 0.0,\n",
       "         'bbr']],\n",
       "\n",
       "       [[Timestamp('2021-08-05 20:28:10.105184+0000', tz='UTC'),\n",
       "         -0.04741356344491683, -0.7673525622506039, ..., 1.0, 0.0,\n",
       "         'bbr'],\n",
       "        [Timestamp('2021-08-06 21:28:02.679139+0000', tz='UTC'),\n",
       "         0.0685225508258349, -0.7721221825284005, ..., 1.0, 0.0, 'bbr'],\n",
       "        [Timestamp('2021-08-07 22:42:00.336785+0000', tz='UTC'),\n",
       "         0.07632815059851918, -0.7713633793023874, ..., 1.0, 0.0, 'bbr'],\n",
       "        [Timestamp('2021-08-08 23:41:54.458480+0000', tz='UTC'),\n",
       "         -0.09792038550346213, -0.7728809857544136, ..., 1.0, 0.0,\n",
       "         'bbr'],\n",
       "        [Timestamp('2021-08-10 00:42:29.597774+0000', tz='UTC'),\n",
       "         -0.1911284298478685, -0.7733145875978495, ..., 1.0, 0.0, 'bbr']],\n",
       "\n",
       "       ...,\n",
       "\n",
       "       [[Timestamp('2020-10-28 22:33:28.788785+0000', tz='UTC'),\n",
       "         2.3454619198106186, 1.8895427334037809, ..., 0.0, 1.0, 'cubic'],\n",
       "        [Timestamp('2020-10-30 01:32:59.204812+0000', tz='UTC'),\n",
       "         1.3238466554445882, 1.8847731131259844, ..., 0.0, 1.0, 'cubic'],\n",
       "        [Timestamp('2020-10-31 04:31:23.281838+0000', tz='UTC'),\n",
       "         2.0010972239569007, 1.8887839301777678, ..., 0.0, 1.0, 'cubic'],\n",
       "        [Timestamp('2020-11-01 07:31:19.575112+0000', tz='UTC'),\n",
       "         2.828490799861434, 1.8895427334037809, ..., 0.0, 1.0, 'cubic'],\n",
       "        [Timestamp('2020-11-02 10:50:24.212433+0000', tz='UTC'),\n",
       "         1.9345200494251817, 1.889109131560345, ..., 0.0, 1.0, 'cubic']],\n",
       "\n",
       "       [[Timestamp('2021-02-06 06:56:03.101232+0000', tz='UTC'),\n",
       "         2.1684584661418076, 1.8868327218823056, ..., 0.0, 1.0, 'cubic'],\n",
       "        [Timestamp('2021-02-07 07:15:03.158229+0000', tz='UTC'),\n",
       "         2.3525787901915955, 1.8887839301777678, ..., 0.0, 1.0, 'cubic'],\n",
       "        [Timestamp('2021-02-08 07:05:02.887376+0000', tz='UTC'),\n",
       "         2.473106433740397, 1.8882419278734728, ..., 0.0, 1.0, 'cubic'],\n",
       "        [Timestamp('2021-02-09 02:38:16.107465+0000', tz='UTC'),\n",
       "         2.1583571017300986, 1.8857487172737155, ..., 0.0, 1.0, 'cubic'],\n",
       "        [Timestamp('2021-02-09 17:58:41.107453+0000', tz='UTC'),\n",
       "         1.3369325138870296, 1.881195897917637, ..., 0.0, 1.0, 'cubic']],\n",
       "\n",
       "       [[Timestamp('2021-02-07 07:15:03.158229+0000', tz='UTC'),\n",
       "         2.3525787901915955, 1.8887839301777678, ..., 0.0, 1.0, 'cubic'],\n",
       "        [Timestamp('2021-02-08 07:05:02.887376+0000', tz='UTC'),\n",
       "         2.473106433740397, 1.8882419278734728, ..., 0.0, 1.0, 'cubic'],\n",
       "        [Timestamp('2021-02-09 02:38:16.107465+0000', tz='UTC'),\n",
       "         2.1583571017300986, 1.8857487172737155, ..., 0.0, 1.0, 'cubic'],\n",
       "        [Timestamp('2021-02-09 17:58:41.107453+0000', tz='UTC'),\n",
       "         1.3369325138870296, 1.881195897917637, ..., 0.0, 1.0, 'cubic'],\n",
       "        [Timestamp('2021-02-10 20:15:07.077250+0000', tz='UTC'),\n",
       "         2.4508375167418563, 1.890951939394948, ..., 0.0, 1.0, 'cubic']]],\n",
       "      dtype=object)"
      ]
     },
     "execution_count": 8,
     "metadata": {},
     "output_type": "execute_result"
    }
   ],
   "source": [
    "Data.train[0]"
   ]
  },
  {
   "cell_type": "code",
   "execution_count": null,
   "id": "e9db03fa-a165-421f-83be-b3bab4459b31",
   "metadata": {},
   "outputs": [],
   "source": []
  },
  {
   "cell_type": "code",
   "execution_count": null,
   "id": "a881449c-a0ae-450b-9f21-bec54a84e306",
   "metadata": {},
   "outputs": [],
   "source": []
  }
 ],
 "metadata": {
  "kernelspec": {
   "display_name": "Python 3",
   "language": "python",
   "name": "python3"
  },
  "language_info": {
   "codemirror_mode": {
    "name": "ipython",
    "version": 3
   },
   "file_extension": ".py",
   "mimetype": "text/x-python",
   "name": "python",
   "nbconvert_exporter": "python",
   "pygments_lexer": "ipython3",
   "version": "3.8.10"
  }
 },
 "nbformat": 4,
 "nbformat_minor": 5
}
