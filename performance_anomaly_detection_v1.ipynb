{
 "cells": [
  {
   "cell_type": "code",
   "execution_count": 6,
   "id": "b7bb8476-cc06-4eb5-9892-597ec6c8f110",
   "metadata": {},
   "outputs": [],
   "source": [
    "import numpy as np\n",
    "import pandas as pd\n",
    "import matplotlib.pyplot as plt\n",
    "from datetime import datetime\n",
    "import pandas_data_util\n",
    "import tensorflow as tf"
   ]
  },
  {
   "cell_type": "code",
   "execution_count": 1,
   "id": "6ba76def-ba08-4065-9df1-f5ee302b70f2",
   "metadata": {},
   "outputs": [],
   "source": [
    "filename = 'data/bq-results-20211105-102236-1pg8as4q8dgo.csv'\n",
    "train_percent=0.6\n",
    "valid_percent=0.2\n",
    "normalize=0\n",
    "horizon=0\n",
    "window=5\n",
    "Data = pandas_data_util.DataUtil(filename,\n",
    "                train_percent,\n",
    "                valid_percent,\n",
    "                horizon,\n",
    "                window,\n",
    "                normalize)"
   ]
  },
  {
   "cell_type": "code",
   "execution_count": null,
   "id": "ce5e0668-42e7-41be-a59e-d3939e3c3d90",
   "metadata": {},
   "outputs": [],
   "source": [
    "Data.train[0]"
   ]
  },
  {
   "cell_type": "code",
   "execution_count": null,
   "id": "e9db03fa-a165-421f-83be-b3bab4459b31",
   "metadata": {},
   "outputs": [],
   "source": []
  },
  {
   "cell_type": "code",
   "execution_count": null,
   "id": "a881449c-a0ae-450b-9f21-bec54a84e306",
   "metadata": {},
   "outputs": [],
   "source": []
  }
 ],
 "metadata": {
  "kernelspec": {
   "display_name": "Python 3",
   "language": "python",
   "name": "python3"
  },
  "language_info": {
   "codemirror_mode": {
    "name": "ipython",
    "version": 3
   },
   "file_extension": ".py",
   "mimetype": "text/x-python",
   "name": "python",
   "nbconvert_exporter": "python",
   "pygments_lexer": "ipython3",
   "version": "3.8.8"
  }
 },
 "nbformat": 4,
 "nbformat_minor": 5
}
