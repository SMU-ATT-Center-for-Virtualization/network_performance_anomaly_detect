{
 "cells": [
  {
   "cell_type": "code",
   "execution_count": 1,
   "id": "9ea664af-12c7-48ee-8e63-d74304f18804",
   "metadata": {},
   "outputs": [
    {
     "name": "stderr",
     "output_type": "stream",
     "text": [
      "\n",
      "KeyboardInterrupt\n",
      "\n"
     ]
    }
   ],
   "source": [
    "import numpy as np \n",
    "import pandas as pd\n",
    "import matplotlib.pyplot as plt\n",
    "import pandas_data_util\n",
    "import tensorflow as tf\n",
    "\n",
    "from datetime import datetime\n",
    "from tensorflow.keras import backend as K"
   ]
  },
  {
   "cell_type": "code",
   "execution_count": null,
   "id": "6fb91d27-f089-4d08-a617-d6c0aa3784ac",
   "metadata": {},
   "outputs": [],
   "source": [
    "filename = 'data/bq_results_09082022.csv'\n",
    "train_percent=0.6\n",
    "valid_percent=0.2\n",
    "normalize=0\n",
    "horizon=0\n",
    "window=5\n",
    "\n",
    "query = 'vm_1_gce_network_tier == \"premium\" and vm_1_machine_type == \"n1-standard-16\" and ip_type == \"internal\" and tcp_congestion_control == \"bbr\"'\n",
    "\n",
    "Data = pandas_data_util.DataUtil(filename,\n",
    "                train_percent,\n",
    "                valid_percent,\n",
    "                horizon,\n",
    "                window,\n",
    "                normalize=normalize,\n",
    "                query=query)"
   ]
  },
  {
   "cell_type": "code",
   "execution_count": 3,
   "id": "c2033f85-c699-4d9c-9832-e97ae8e8c9b1",
   "metadata": {},
   "outputs": [
    {
     "data": {
      "text/plain": [
       "(33032, 5, 14)"
      ]
     },
     "execution_count": 3,
     "metadata": {},
     "output_type": "execute_result"
    }
   ],
   "source": [
    "Data.train[0].shape"
   ]
  },
  {
   "cell_type": "code",
   "execution_count": 4,
   "id": "0818f5eb-9d7c-4ccf-994b-9781e2e856f2",
   "metadata": {},
   "outputs": [
    {
     "data": {
      "text/plain": [
       "(33032, 14)"
      ]
     },
     "execution_count": 4,
     "metadata": {},
     "output_type": "execute_result"
    }
   ],
   "source": [
    "Data.train[1].shape"
   ]
  },
  {
   "cell_type": "code",
   "execution_count": 5,
   "id": "fc4eaf34-1d16-40bb-af09-35d6dc4a4ac5",
   "metadata": {},
   "outputs": [
    {
     "data": {
      "text/plain": [
       "['pandas_datetime',\n",
       " 'iperf_throughput_1_thread',\n",
       " 'iperf_throughput_32_threads',\n",
       " 'ping_average_latency',\n",
       " 'tcp_max_receive_buffer',\n",
       " 'sending_zone_day_cos',\n",
       " 'sending_zone_day_sin',\n",
       " 'receiving_zone_day_cos',\n",
       " 'receiving_zone_day_sin',\n",
       " 'sending_zone_hour_cos',\n",
       " 'sending_zone_hour_sin',\n",
       " 'receiving_zone_hour_cos',\n",
       " 'receiving_zone_hour_sin',\n",
       " 'kernel_version']"
      ]
     },
     "execution_count": 5,
     "metadata": {},
     "output_type": "execute_result"
    }
   ],
   "source": [
    "Data.columns"
   ]
  },
  {
   "cell_type": "code",
   "execution_count": 6,
   "id": "d3aefa24-ae6c-4ce2-93a3-5fdbde9ff527",
   "metadata": {},
   "outputs": [
    {
     "data": {
      "text/plain": [
       "array([[Timestamp('2022-02-26 20:43:38.776482+0000', tz='UTC'),\n",
       "        1.2201835075827496, -0.05245136755949911, -1.4485563551906806,\n",
       "        0.2624546782948662, 0.6234898018587334, -0.7818314824680299,\n",
       "        0.6234898018587334, -0.7818314824680299, 0.5000000000000001,\n",
       "        0.8660254037844386, 0.5000000000000001, 0.8660254037844386,\n",
       "        -2.0991441887229376],\n",
       "       [Timestamp('2022-02-27 17:19:57.214357+0000', tz='UTC'),\n",
       "        2.0774288382274184, -0.029408806902273644, -1.4482064673701363,\n",
       "        0.2624546782948662, 1.0, 0.0, 1.0, 0.0, 0.9659258262890683,\n",
       "        0.25881904510252074, 0.9659258262890683, 0.25881904510252074,\n",
       "        -2.0991441887229376],\n",
       "       [Timestamp('2022-02-28 19:21:10.263816+0000', tz='UTC'),\n",
       "        1.3797522715750319, -0.05735182163592263, -1.4581843028042807,\n",
       "        0.2624546782948662, 0.6234898018587336, 0.7818314824680298,\n",
       "        0.6234898018587336, 0.7818314824680298, 0.7071067811865476,\n",
       "        0.7071067811865475, 0.7071067811865476, 0.7071067811865475,\n",
       "        -2.0991441887229376],\n",
       "       [Timestamp('2022-03-02 01:01:14.884609+0000', tz='UTC'),\n",
       "        1.5637804811427731, -0.03879265513372293, -1.45413043012487,\n",
       "        0.2624546782948662, -0.22252093395631434, 0.9749279121818236,\n",
       "        -0.22252093395631434, 0.9749279121818236, -0.7071067811865475,\n",
       "        0.7071067811865476, -0.7071067811865475, 0.7071067811865476,\n",
       "        -2.0991441887229376],\n",
       "       [Timestamp('2022-03-03 04:11:17.582279+0000', tz='UTC'),\n",
       "        0.6520837657051175, 0.5224657340872938, -1.4523327306331077,\n",
       "        0.2624546782948662, -0.900968867902419, 0.43388373911755823,\n",
       "        -0.900968867902419, 0.43388373911755823, -1.0,\n",
       "        1.2246467991473532e-16, -1.0, 1.2246467991473532e-16,\n",
       "        -2.0991441887229376]], dtype=object)"
      ]
     },
     "execution_count": 6,
     "metadata": {},
     "output_type": "execute_result"
    }
   ],
   "source": [
    "Data.train[0][0]"
   ]
  },
  {
   "cell_type": "code",
   "execution_count": null,
   "id": "d9999dd2-a1de-4923-95b3-cd395c125c61",
   "metadata": {},
   "outputs": [],
   "source": []
  }
 ],
 "metadata": {
  "kernelspec": {
   "display_name": "Python 3 (ipykernel)",
   "language": "python",
   "name": "python3"
  },
  "language_info": {
   "codemirror_mode": {
    "name": "ipython",
    "version": 3
   },
   "file_extension": ".py",
   "mimetype": "text/x-python",
   "name": "python",
   "nbconvert_exporter": "python",
   "pygments_lexer": "ipython3",
   "version": "3.9.12"
  }
 },
 "nbformat": 4,
 "nbformat_minor": 5
}
